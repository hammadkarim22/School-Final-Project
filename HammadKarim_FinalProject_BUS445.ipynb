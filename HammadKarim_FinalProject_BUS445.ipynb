{
 "cells": [
  {
   "cell_type": "markdown",
   "id": "e09a5bb1",
   "metadata": {},
   "source": [
    "## Basic Tasks"
   ]
  },
  {
   "cell_type": "markdown",
   "id": "c1ca4c4b",
   "metadata": {},
   "source": [
    "1. Successfully import necessary Python packages/libraries "
   ]
  },
  {
   "cell_type": "code",
   "execution_count": 1,
   "id": "1016c9b9",
   "metadata": {},
   "outputs": [],
   "source": [
    "import pandas as pd\n",
    "import numpy as np\n",
    "import matplotlib.pyplot as plt  \n",
    "import seaborn as sns"
   ]
  },
  {
   "cell_type": "markdown",
   "id": "d1a89ece",
   "metadata": {},
   "source": [
    "2. Successfully load the datasets."
   ]
  },
  {
   "cell_type": "code",
   "execution_count": 2,
   "id": "25adf266",
   "metadata": {},
   "outputs": [
    {
     "name": "stderr",
     "output_type": "stream",
     "text": [
      "C:\\Users\\Hammad\\AppData\\Local\\Temp\\ipykernel_14284\\4289059507.py:1: DtypeWarning: Columns (0) have mixed types. Specify dtype option on import or set low_memory=False.\n",
      "  airport = pd.read_csv('C:\\\\Documents\\\\BUS445\\\\Final\\\\airports.csv')\n"
     ]
    }
   ],
   "source": [
    "airport = pd.read_csv('C:\\\\Documents\\\\BUS445\\\\Final\\\\airports.csv')"
   ]
  },
  {
   "cell_type": "code",
   "execution_count": 3,
   "id": "2d145189",
   "metadata": {},
   "outputs": [],
   "source": [
    "medical = pd.read_csv('C:\\\\Documents\\\\BUS445\\\\Final\\\\medicalCosts.csv')"
   ]
  },
  {
   "cell_type": "markdown",
   "id": "819e8739",
   "metadata": {},
   "source": [
    "3. Use 4 different Python functions to examine and understand the data for each dataset."
   ]
  },
  {
   "cell_type": "code",
   "execution_count": 4,
   "id": "d7c7c973",
   "metadata": {},
   "outputs": [
    {
     "data": {
      "text/html": [
       "<div>\n",
       "<style scoped>\n",
       "    .dataframe tbody tr th:only-of-type {\n",
       "        vertical-align: middle;\n",
       "    }\n",
       "\n",
       "    .dataframe tbody tr th {\n",
       "        vertical-align: top;\n",
       "    }\n",
       "\n",
       "    .dataframe thead th {\n",
       "        text-align: right;\n",
       "    }\n",
       "</style>\n",
       "<table border=\"1\" class=\"dataframe\">\n",
       "  <thead>\n",
       "    <tr style=\"text-align: right;\">\n",
       "      <th></th>\n",
       "      <th>Claim Number</th>\n",
       "      <th>Date Received</th>\n",
       "      <th>Incident Date</th>\n",
       "      <th>Airport Code</th>\n",
       "      <th>Airport Name</th>\n",
       "      <th>Airline Name</th>\n",
       "      <th>Claim Type</th>\n",
       "      <th>Claim Site</th>\n",
       "      <th>Item</th>\n",
       "      <th>Claim Amount</th>\n",
       "      <th>Status</th>\n",
       "      <th>Close Amount</th>\n",
       "      <th>Disposition</th>\n",
       "    </tr>\n",
       "  </thead>\n",
       "  <tbody>\n",
       "    <tr>\n",
       "      <th>0</th>\n",
       "      <td>0909802M</td>\n",
       "      <td>4-Jan-02</td>\n",
       "      <td>12/12/2002 0:00</td>\n",
       "      <td>EWR</td>\n",
       "      <td>Newark International Airport</td>\n",
       "      <td>Continental Airlines</td>\n",
       "      <td>Property Damage</td>\n",
       "      <td>Checkpoint</td>\n",
       "      <td>Other</td>\n",
       "      <td>350.00</td>\n",
       "      <td>Approved</td>\n",
       "      <td>350.00</td>\n",
       "      <td>Approve in Full</td>\n",
       "    </tr>\n",
       "    <tr>\n",
       "      <th>1</th>\n",
       "      <td>0202445M</td>\n",
       "      <td>4-Feb-02</td>\n",
       "      <td>11/26/2003 0:00</td>\n",
       "      <td>STL</td>\n",
       "      <td>Lambert St. Louis International</td>\n",
       "      <td>American Airlines</td>\n",
       "      <td>Property Damage</td>\n",
       "      <td>Checked Baggage</td>\n",
       "      <td>Cell Phones</td>\n",
       "      <td>278.88</td>\n",
       "      <td>Settled</td>\n",
       "      <td>227.92</td>\n",
       "      <td>Settle</td>\n",
       "    </tr>\n",
       "    <tr>\n",
       "      <th>2</th>\n",
       "      <td>0909816M</td>\n",
       "      <td>7-Feb-02</td>\n",
       "      <td>1/6/2003 0:00</td>\n",
       "      <td>MIA</td>\n",
       "      <td>Miami International Airport</td>\n",
       "      <td>American Airlines</td>\n",
       "      <td>Property Damage</td>\n",
       "      <td>Checkpoint</td>\n",
       "      <td>Luggage (all types including footlockers)</td>\n",
       "      <td>50.00</td>\n",
       "      <td>Approved</td>\n",
       "      <td>50.00</td>\n",
       "      <td>Approve in Full</td>\n",
       "    </tr>\n",
       "    <tr>\n",
       "      <th>3</th>\n",
       "      <td>2.00503E+12</td>\n",
       "      <td>18-Feb-02</td>\n",
       "      <td>2/5/2005 0:00</td>\n",
       "      <td>MCO</td>\n",
       "      <td>Orlando International Airport</td>\n",
       "      <td>Delta (Song)</td>\n",
       "      <td>Property Damage</td>\n",
       "      <td>Checkpoint</td>\n",
       "      <td>Baby - Strollers; car seats; playpen; etc.</td>\n",
       "      <td>84.79</td>\n",
       "      <td>Approved</td>\n",
       "      <td>84.79</td>\n",
       "      <td>Approve in Full</td>\n",
       "    </tr>\n",
       "    <tr>\n",
       "      <th>4</th>\n",
       "      <td>2.00503E+12</td>\n",
       "      <td>18-Feb-02</td>\n",
       "      <td>2/17/2005 0:00</td>\n",
       "      <td>CAK</td>\n",
       "      <td>Akron-Canton Regional</td>\n",
       "      <td>Air Tran Airlines(do not use)</td>\n",
       "      <td>Passenger Property Loss</td>\n",
       "      <td>Checked Baggage</td>\n",
       "      <td>Other</td>\n",
       "      <td>459.01</td>\n",
       "      <td>Settled</td>\n",
       "      <td>227.00</td>\n",
       "      <td>Settle</td>\n",
       "    </tr>\n",
       "  </tbody>\n",
       "</table>\n",
       "</div>"
      ],
      "text/plain": [
       "  Claim Number Date Received    Incident Date Airport Code  \\\n",
       "0     0909802M      4-Jan-02  12/12/2002 0:00          EWR   \n",
       "1     0202445M      4-Feb-02  11/26/2003 0:00          STL   \n",
       "2     0909816M      7-Feb-02    1/6/2003 0:00          MIA   \n",
       "3  2.00503E+12     18-Feb-02    2/5/2005 0:00          MCO   \n",
       "4  2.00503E+12     18-Feb-02   2/17/2005 0:00          CAK   \n",
       "\n",
       "                      Airport Name                   Airline Name  \\\n",
       "0     Newark International Airport           Continental Airlines   \n",
       "1  Lambert St. Louis International              American Airlines   \n",
       "2      Miami International Airport              American Airlines   \n",
       "3    Orlando International Airport                   Delta (Song)   \n",
       "4            Akron-Canton Regional  Air Tran Airlines(do not use)   \n",
       "\n",
       "                Claim Type       Claim Site  \\\n",
       "0          Property Damage       Checkpoint   \n",
       "1          Property Damage  Checked Baggage   \n",
       "2          Property Damage       Checkpoint   \n",
       "3          Property Damage       Checkpoint   \n",
       "4  Passenger Property Loss  Checked Baggage   \n",
       "\n",
       "                                         Item  Claim Amount    Status  \\\n",
       "0                                       Other        350.00  Approved   \n",
       "1                                 Cell Phones        278.88   Settled   \n",
       "2   Luggage (all types including footlockers)         50.00  Approved   \n",
       "3  Baby - Strollers; car seats; playpen; etc.         84.79  Approved   \n",
       "4                                       Other        459.01   Settled   \n",
       "\n",
       "   Close Amount      Disposition  \n",
       "0        350.00  Approve in Full  \n",
       "1        227.92           Settle  \n",
       "2         50.00  Approve in Full  \n",
       "3         84.79  Approve in Full  \n",
       "4        227.00           Settle  "
      ]
     },
     "execution_count": 4,
     "metadata": {},
     "output_type": "execute_result"
    }
   ],
   "source": [
    "airport.head(5)"
   ]
  },
  {
   "cell_type": "code",
   "execution_count": 5,
   "id": "f4f0cd68",
   "metadata": {},
   "outputs": [
    {
     "name": "stdout",
     "output_type": "stream",
     "text": [
      "<class 'pandas.core.frame.DataFrame'>\n",
      "RangeIndex: 94848 entries, 0 to 94847\n",
      "Data columns (total 13 columns):\n",
      " #   Column         Non-Null Count  Dtype  \n",
      "---  ------         --------------  -----  \n",
      " 0   Claim Number   94848 non-null  object \n",
      " 1   Date Received  94848 non-null  object \n",
      " 2   Incident Date  94848 non-null  object \n",
      " 3   Airport Code   94848 non-null  object \n",
      " 4   Airport Name   94848 non-null  object \n",
      " 5   Airline Name   94848 non-null  object \n",
      " 6   Claim Type     94848 non-null  object \n",
      " 7   Claim Site     94848 non-null  object \n",
      " 8   Item           94848 non-null  object \n",
      " 9   Claim Amount   94848 non-null  float64\n",
      " 10  Status         94848 non-null  object \n",
      " 11  Close Amount   94848 non-null  float64\n",
      " 12  Disposition    94848 non-null  object \n",
      "dtypes: float64(2), object(11)\n",
      "memory usage: 9.4+ MB\n"
     ]
    }
   ],
   "source": [
    "airport.info()"
   ]
  },
  {
   "cell_type": "code",
   "execution_count": 6,
   "id": "156e587e",
   "metadata": {},
   "outputs": [
    {
     "data": {
      "text/html": [
       "<div>\n",
       "<style scoped>\n",
       "    .dataframe tbody tr th:only-of-type {\n",
       "        vertical-align: middle;\n",
       "    }\n",
       "\n",
       "    .dataframe tbody tr th {\n",
       "        vertical-align: top;\n",
       "    }\n",
       "\n",
       "    .dataframe thead th {\n",
       "        text-align: right;\n",
       "    }\n",
       "</style>\n",
       "<table border=\"1\" class=\"dataframe\">\n",
       "  <thead>\n",
       "    <tr style=\"text-align: right;\">\n",
       "      <th></th>\n",
       "      <th>Claim Amount</th>\n",
       "      <th>Close Amount</th>\n",
       "    </tr>\n",
       "  </thead>\n",
       "  <tbody>\n",
       "    <tr>\n",
       "      <th>count</th>\n",
       "      <td>9.484800e+04</td>\n",
       "      <td>94848.000000</td>\n",
       "    </tr>\n",
       "    <tr>\n",
       "      <th>mean</th>\n",
       "      <td>3.634831e+03</td>\n",
       "      <td>89.046256</td>\n",
       "    </tr>\n",
       "    <tr>\n",
       "      <th>std</th>\n",
       "      <td>5.249437e+05</td>\n",
       "      <td>882.058837</td>\n",
       "    </tr>\n",
       "    <tr>\n",
       "      <th>min</th>\n",
       "      <td>0.000000e+00</td>\n",
       "      <td>0.000000</td>\n",
       "    </tr>\n",
       "    <tr>\n",
       "      <th>25%</th>\n",
       "      <td>6.500000e+01</td>\n",
       "      <td>0.000000</td>\n",
       "    </tr>\n",
       "    <tr>\n",
       "      <th>50%</th>\n",
       "      <td>1.836900e+02</td>\n",
       "      <td>0.000000</td>\n",
       "    </tr>\n",
       "    <tr>\n",
       "      <th>75%</th>\n",
       "      <td>4.806425e+02</td>\n",
       "      <td>61.972500</td>\n",
       "    </tr>\n",
       "    <tr>\n",
       "      <th>max</th>\n",
       "      <td>1.250000e+08</td>\n",
       "      <td>250000.000000</td>\n",
       "    </tr>\n",
       "  </tbody>\n",
       "</table>\n",
       "</div>"
      ],
      "text/plain": [
       "       Claim Amount   Close Amount\n",
       "count  9.484800e+04   94848.000000\n",
       "mean   3.634831e+03      89.046256\n",
       "std    5.249437e+05     882.058837\n",
       "min    0.000000e+00       0.000000\n",
       "25%    6.500000e+01       0.000000\n",
       "50%    1.836900e+02       0.000000\n",
       "75%    4.806425e+02      61.972500\n",
       "max    1.250000e+08  250000.000000"
      ]
     },
     "execution_count": 6,
     "metadata": {},
     "output_type": "execute_result"
    }
   ],
   "source": [
    "airport.describe()"
   ]
  },
  {
   "cell_type": "code",
   "execution_count": 7,
   "id": "7b99eb0f",
   "metadata": {},
   "outputs": [
    {
     "data": {
      "text/html": [
       "<div>\n",
       "<style scoped>\n",
       "    .dataframe tbody tr th:only-of-type {\n",
       "        vertical-align: middle;\n",
       "    }\n",
       "\n",
       "    .dataframe tbody tr th {\n",
       "        vertical-align: top;\n",
       "    }\n",
       "\n",
       "    .dataframe thead th {\n",
       "        text-align: right;\n",
       "    }\n",
       "</style>\n",
       "<table border=\"1\" class=\"dataframe\">\n",
       "  <thead>\n",
       "    <tr style=\"text-align: right;\">\n",
       "      <th></th>\n",
       "      <th>Claim Number</th>\n",
       "      <th>Date Received</th>\n",
       "      <th>Incident Date</th>\n",
       "      <th>Airport Code</th>\n",
       "      <th>Airport Name</th>\n",
       "      <th>Airline Name</th>\n",
       "      <th>Claim Type</th>\n",
       "      <th>Claim Site</th>\n",
       "      <th>Item</th>\n",
       "      <th>Claim Amount</th>\n",
       "      <th>Status</th>\n",
       "      <th>Close Amount</th>\n",
       "      <th>Disposition</th>\n",
       "    </tr>\n",
       "  </thead>\n",
       "  <tbody>\n",
       "    <tr>\n",
       "      <th>94843</th>\n",
       "      <td>2010010000000.0</td>\n",
       "      <td>31-Dec-09</td>\n",
       "      <td>12/14/2009 0:00</td>\n",
       "      <td>EWR</td>\n",
       "      <td>Newark International Airport</td>\n",
       "      <td>Continental Airlines</td>\n",
       "      <td>Property Damage</td>\n",
       "      <td>Checked Baggage</td>\n",
       "      <td>Luggage (all types including footlockers)</td>\n",
       "      <td>175.90</td>\n",
       "      <td>Denied</td>\n",
       "      <td>0.00</td>\n",
       "      <td>Deny</td>\n",
       "    </tr>\n",
       "    <tr>\n",
       "      <th>94844</th>\n",
       "      <td>2010010000000.0</td>\n",
       "      <td>31-Dec-09</td>\n",
       "      <td>12/17/2009 7:55</td>\n",
       "      <td>BWI</td>\n",
       "      <td>Baltimore/Washington Intl Thurgood Marshall</td>\n",
       "      <td>Southwest Airlines</td>\n",
       "      <td>Passenger Property Loss</td>\n",
       "      <td>Checked Baggage</td>\n",
       "      <td>Cell Phones (smartphone type-blackberry; iphon...</td>\n",
       "      <td>695.00</td>\n",
       "      <td>Denied</td>\n",
       "      <td>0.00</td>\n",
       "      <td>Deny</td>\n",
       "    </tr>\n",
       "    <tr>\n",
       "      <th>94845</th>\n",
       "      <td>2010010000000.0</td>\n",
       "      <td>31-Dec-09</td>\n",
       "      <td>12/15/2009 0:00</td>\n",
       "      <td>SMF</td>\n",
       "      <td>Sacramento International Airport</td>\n",
       "      <td>Southwest Airlines</td>\n",
       "      <td>Passenger Property Loss</td>\n",
       "      <td>Checked Baggage</td>\n",
       "      <td>Locks</td>\n",
       "      <td>25.50</td>\n",
       "      <td>Denied</td>\n",
       "      <td>0.00</td>\n",
       "      <td>Deny</td>\n",
       "    </tr>\n",
       "    <tr>\n",
       "      <th>94846</th>\n",
       "      <td>2010010000000.0</td>\n",
       "      <td>31-Dec-09</td>\n",
       "      <td>12/16/2009 10:00</td>\n",
       "      <td>ENV</td>\n",
       "      <td>Wendover Municipal Airport</td>\n",
       "      <td>Xtra Airways</td>\n",
       "      <td>Passenger Property Loss</td>\n",
       "      <td>Checked Baggage</td>\n",
       "      <td>Locks</td>\n",
       "      <td>20.00</td>\n",
       "      <td>Denied</td>\n",
       "      <td>0.00</td>\n",
       "      <td>Deny</td>\n",
       "    </tr>\n",
       "    <tr>\n",
       "      <th>94847</th>\n",
       "      <td>2009120000000.0</td>\n",
       "      <td>31-Dec-09</td>\n",
       "      <td>11/21/2009 9:20</td>\n",
       "      <td>JFK</td>\n",
       "      <td>John F. Kennedy International</td>\n",
       "      <td>American Airlines</td>\n",
       "      <td>Property Damage</td>\n",
       "      <td>Checkpoint</td>\n",
       "      <td>Computer - Laptop</td>\n",
       "      <td>1228.95</td>\n",
       "      <td>Settled</td>\n",
       "      <td>826.72</td>\n",
       "      <td>Settle</td>\n",
       "    </tr>\n",
       "  </tbody>\n",
       "</table>\n",
       "</div>"
      ],
      "text/plain": [
       "          Claim Number Date Received     Incident Date Airport Code  \\\n",
       "94843  2010010000000.0     31-Dec-09   12/14/2009 0:00          EWR   \n",
       "94844  2010010000000.0     31-Dec-09   12/17/2009 7:55          BWI   \n",
       "94845  2010010000000.0     31-Dec-09   12/15/2009 0:00          SMF   \n",
       "94846  2010010000000.0     31-Dec-09  12/16/2009 10:00          ENV   \n",
       "94847  2009120000000.0     31-Dec-09   11/21/2009 9:20          JFK   \n",
       "\n",
       "                                      Airport Name          Airline Name  \\\n",
       "94843                 Newark International Airport  Continental Airlines   \n",
       "94844  Baltimore/Washington Intl Thurgood Marshall    Southwest Airlines   \n",
       "94845             Sacramento International Airport    Southwest Airlines   \n",
       "94846                   Wendover Municipal Airport          Xtra Airways   \n",
       "94847                John F. Kennedy International     American Airlines   \n",
       "\n",
       "                    Claim Type       Claim Site  \\\n",
       "94843          Property Damage  Checked Baggage   \n",
       "94844  Passenger Property Loss  Checked Baggage   \n",
       "94845  Passenger Property Loss  Checked Baggage   \n",
       "94846  Passenger Property Loss  Checked Baggage   \n",
       "94847          Property Damage       Checkpoint   \n",
       "\n",
       "                                                    Item  Claim Amount  \\\n",
       "94843          Luggage (all types including footlockers)        175.90   \n",
       "94844  Cell Phones (smartphone type-blackberry; iphon...        695.00   \n",
       "94845                                              Locks         25.50   \n",
       "94846                                              Locks         20.00   \n",
       "94847                                  Computer - Laptop       1228.95   \n",
       "\n",
       "        Status  Close Amount Disposition  \n",
       "94843   Denied          0.00        Deny  \n",
       "94844   Denied          0.00        Deny  \n",
       "94845   Denied          0.00        Deny  \n",
       "94846   Denied          0.00        Deny  \n",
       "94847  Settled        826.72      Settle  "
      ]
     },
     "execution_count": 7,
     "metadata": {},
     "output_type": "execute_result"
    }
   ],
   "source": [
    "airport.tail()"
   ]
  },
  {
   "cell_type": "code",
   "execution_count": 8,
   "id": "bf5bc1ca",
   "metadata": {},
   "outputs": [
    {
     "data": {
      "text/html": [
       "<div>\n",
       "<style scoped>\n",
       "    .dataframe tbody tr th:only-of-type {\n",
       "        vertical-align: middle;\n",
       "    }\n",
       "\n",
       "    .dataframe tbody tr th {\n",
       "        vertical-align: top;\n",
       "    }\n",
       "\n",
       "    .dataframe thead th {\n",
       "        text-align: right;\n",
       "    }\n",
       "</style>\n",
       "<table border=\"1\" class=\"dataframe\">\n",
       "  <thead>\n",
       "    <tr style=\"text-align: right;\">\n",
       "      <th></th>\n",
       "      <th>age</th>\n",
       "      <th>sex</th>\n",
       "      <th>bmi</th>\n",
       "      <th>children</th>\n",
       "      <th>smoker</th>\n",
       "      <th>region</th>\n",
       "      <th>charges</th>\n",
       "    </tr>\n",
       "  </thead>\n",
       "  <tbody>\n",
       "    <tr>\n",
       "      <th>0</th>\n",
       "      <td>19</td>\n",
       "      <td>female</td>\n",
       "      <td>27.900</td>\n",
       "      <td>0</td>\n",
       "      <td>yes</td>\n",
       "      <td>southwest</td>\n",
       "      <td>16884.92400</td>\n",
       "    </tr>\n",
       "    <tr>\n",
       "      <th>1</th>\n",
       "      <td>18</td>\n",
       "      <td>male</td>\n",
       "      <td>33.770</td>\n",
       "      <td>1</td>\n",
       "      <td>no</td>\n",
       "      <td>southeast</td>\n",
       "      <td>1725.55230</td>\n",
       "    </tr>\n",
       "    <tr>\n",
       "      <th>2</th>\n",
       "      <td>28</td>\n",
       "      <td>male</td>\n",
       "      <td>33.000</td>\n",
       "      <td>3</td>\n",
       "      <td>no</td>\n",
       "      <td>southeast</td>\n",
       "      <td>4449.46200</td>\n",
       "    </tr>\n",
       "    <tr>\n",
       "      <th>3</th>\n",
       "      <td>33</td>\n",
       "      <td>male</td>\n",
       "      <td>22.705</td>\n",
       "      <td>0</td>\n",
       "      <td>no</td>\n",
       "      <td>northwest</td>\n",
       "      <td>21984.47061</td>\n",
       "    </tr>\n",
       "    <tr>\n",
       "      <th>4</th>\n",
       "      <td>32</td>\n",
       "      <td>male</td>\n",
       "      <td>28.880</td>\n",
       "      <td>0</td>\n",
       "      <td>no</td>\n",
       "      <td>northwest</td>\n",
       "      <td>3866.85520</td>\n",
       "    </tr>\n",
       "  </tbody>\n",
       "</table>\n",
       "</div>"
      ],
      "text/plain": [
       "   age     sex     bmi  children smoker     region      charges\n",
       "0   19  female  27.900         0    yes  southwest  16884.92400\n",
       "1   18    male  33.770         1     no  southeast   1725.55230\n",
       "2   28    male  33.000         3     no  southeast   4449.46200\n",
       "3   33    male  22.705         0     no  northwest  21984.47061\n",
       "4   32    male  28.880         0     no  northwest   3866.85520"
      ]
     },
     "execution_count": 8,
     "metadata": {},
     "output_type": "execute_result"
    }
   ],
   "source": [
    "medical.head(5)"
   ]
  },
  {
   "cell_type": "code",
   "execution_count": 9,
   "id": "0cd10988",
   "metadata": {},
   "outputs": [
    {
     "name": "stdout",
     "output_type": "stream",
     "text": [
      "<class 'pandas.core.frame.DataFrame'>\n",
      "RangeIndex: 1338 entries, 0 to 1337\n",
      "Data columns (total 7 columns):\n",
      " #   Column    Non-Null Count  Dtype  \n",
      "---  ------    --------------  -----  \n",
      " 0   age       1338 non-null   int64  \n",
      " 1   sex       1338 non-null   object \n",
      " 2   bmi       1338 non-null   float64\n",
      " 3   children  1338 non-null   int64  \n",
      " 4   smoker    1338 non-null   object \n",
      " 5   region    1338 non-null   object \n",
      " 6   charges   1338 non-null   float64\n",
      "dtypes: float64(2), int64(2), object(3)\n",
      "memory usage: 73.3+ KB\n"
     ]
    }
   ],
   "source": [
    "medical.info()"
   ]
  },
  {
   "cell_type": "code",
   "execution_count": 10,
   "id": "08956493",
   "metadata": {},
   "outputs": [
    {
     "data": {
      "text/html": [
       "<div>\n",
       "<style scoped>\n",
       "    .dataframe tbody tr th:only-of-type {\n",
       "        vertical-align: middle;\n",
       "    }\n",
       "\n",
       "    .dataframe tbody tr th {\n",
       "        vertical-align: top;\n",
       "    }\n",
       "\n",
       "    .dataframe thead th {\n",
       "        text-align: right;\n",
       "    }\n",
       "</style>\n",
       "<table border=\"1\" class=\"dataframe\">\n",
       "  <thead>\n",
       "    <tr style=\"text-align: right;\">\n",
       "      <th></th>\n",
       "      <th>age</th>\n",
       "      <th>bmi</th>\n",
       "      <th>children</th>\n",
       "      <th>charges</th>\n",
       "    </tr>\n",
       "  </thead>\n",
       "  <tbody>\n",
       "    <tr>\n",
       "      <th>count</th>\n",
       "      <td>1338.000000</td>\n",
       "      <td>1338.000000</td>\n",
       "      <td>1338.000000</td>\n",
       "      <td>1338.000000</td>\n",
       "    </tr>\n",
       "    <tr>\n",
       "      <th>mean</th>\n",
       "      <td>39.207025</td>\n",
       "      <td>30.663397</td>\n",
       "      <td>1.094918</td>\n",
       "      <td>13270.422265</td>\n",
       "    </tr>\n",
       "    <tr>\n",
       "      <th>std</th>\n",
       "      <td>14.049960</td>\n",
       "      <td>6.098187</td>\n",
       "      <td>1.205493</td>\n",
       "      <td>12110.011237</td>\n",
       "    </tr>\n",
       "    <tr>\n",
       "      <th>min</th>\n",
       "      <td>18.000000</td>\n",
       "      <td>15.960000</td>\n",
       "      <td>0.000000</td>\n",
       "      <td>1121.873900</td>\n",
       "    </tr>\n",
       "    <tr>\n",
       "      <th>25%</th>\n",
       "      <td>27.000000</td>\n",
       "      <td>26.296250</td>\n",
       "      <td>0.000000</td>\n",
       "      <td>4740.287150</td>\n",
       "    </tr>\n",
       "    <tr>\n",
       "      <th>50%</th>\n",
       "      <td>39.000000</td>\n",
       "      <td>30.400000</td>\n",
       "      <td>1.000000</td>\n",
       "      <td>9382.033000</td>\n",
       "    </tr>\n",
       "    <tr>\n",
       "      <th>75%</th>\n",
       "      <td>51.000000</td>\n",
       "      <td>34.693750</td>\n",
       "      <td>2.000000</td>\n",
       "      <td>16639.912515</td>\n",
       "    </tr>\n",
       "    <tr>\n",
       "      <th>max</th>\n",
       "      <td>64.000000</td>\n",
       "      <td>53.130000</td>\n",
       "      <td>5.000000</td>\n",
       "      <td>63770.428010</td>\n",
       "    </tr>\n",
       "  </tbody>\n",
       "</table>\n",
       "</div>"
      ],
      "text/plain": [
       "               age          bmi     children       charges\n",
       "count  1338.000000  1338.000000  1338.000000   1338.000000\n",
       "mean     39.207025    30.663397     1.094918  13270.422265\n",
       "std      14.049960     6.098187     1.205493  12110.011237\n",
       "min      18.000000    15.960000     0.000000   1121.873900\n",
       "25%      27.000000    26.296250     0.000000   4740.287150\n",
       "50%      39.000000    30.400000     1.000000   9382.033000\n",
       "75%      51.000000    34.693750     2.000000  16639.912515\n",
       "max      64.000000    53.130000     5.000000  63770.428010"
      ]
     },
     "execution_count": 10,
     "metadata": {},
     "output_type": "execute_result"
    }
   ],
   "source": [
    "medical.describe()"
   ]
  },
  {
   "cell_type": "code",
   "execution_count": 11,
   "id": "33624c7f",
   "metadata": {},
   "outputs": [
    {
     "data": {
      "text/html": [
       "<div>\n",
       "<style scoped>\n",
       "    .dataframe tbody tr th:only-of-type {\n",
       "        vertical-align: middle;\n",
       "    }\n",
       "\n",
       "    .dataframe tbody tr th {\n",
       "        vertical-align: top;\n",
       "    }\n",
       "\n",
       "    .dataframe thead th {\n",
       "        text-align: right;\n",
       "    }\n",
       "</style>\n",
       "<table border=\"1\" class=\"dataframe\">\n",
       "  <thead>\n",
       "    <tr style=\"text-align: right;\">\n",
       "      <th></th>\n",
       "      <th>age</th>\n",
       "      <th>sex</th>\n",
       "      <th>bmi</th>\n",
       "      <th>children</th>\n",
       "      <th>smoker</th>\n",
       "      <th>region</th>\n",
       "      <th>charges</th>\n",
       "    </tr>\n",
       "  </thead>\n",
       "  <tbody>\n",
       "    <tr>\n",
       "      <th>1333</th>\n",
       "      <td>50</td>\n",
       "      <td>male</td>\n",
       "      <td>30.97</td>\n",
       "      <td>3</td>\n",
       "      <td>no</td>\n",
       "      <td>northwest</td>\n",
       "      <td>10600.5483</td>\n",
       "    </tr>\n",
       "    <tr>\n",
       "      <th>1334</th>\n",
       "      <td>18</td>\n",
       "      <td>female</td>\n",
       "      <td>31.92</td>\n",
       "      <td>0</td>\n",
       "      <td>no</td>\n",
       "      <td>northeast</td>\n",
       "      <td>2205.9808</td>\n",
       "    </tr>\n",
       "    <tr>\n",
       "      <th>1335</th>\n",
       "      <td>18</td>\n",
       "      <td>female</td>\n",
       "      <td>36.85</td>\n",
       "      <td>0</td>\n",
       "      <td>no</td>\n",
       "      <td>southeast</td>\n",
       "      <td>1629.8335</td>\n",
       "    </tr>\n",
       "    <tr>\n",
       "      <th>1336</th>\n",
       "      <td>21</td>\n",
       "      <td>female</td>\n",
       "      <td>25.80</td>\n",
       "      <td>0</td>\n",
       "      <td>no</td>\n",
       "      <td>southwest</td>\n",
       "      <td>2007.9450</td>\n",
       "    </tr>\n",
       "    <tr>\n",
       "      <th>1337</th>\n",
       "      <td>61</td>\n",
       "      <td>female</td>\n",
       "      <td>29.07</td>\n",
       "      <td>0</td>\n",
       "      <td>yes</td>\n",
       "      <td>northwest</td>\n",
       "      <td>29141.3603</td>\n",
       "    </tr>\n",
       "  </tbody>\n",
       "</table>\n",
       "</div>"
      ],
      "text/plain": [
       "      age     sex    bmi  children smoker     region     charges\n",
       "1333   50    male  30.97         3     no  northwest  10600.5483\n",
       "1334   18  female  31.92         0     no  northeast   2205.9808\n",
       "1335   18  female  36.85         0     no  southeast   1629.8335\n",
       "1336   21  female  25.80         0     no  southwest   2007.9450\n",
       "1337   61  female  29.07         0    yes  northwest  29141.3603"
      ]
     },
     "execution_count": 11,
     "metadata": {},
     "output_type": "execute_result"
    }
   ],
   "source": [
    "medical.tail()"
   ]
  },
  {
   "cell_type": "markdown",
   "id": "324adb8a",
   "metadata": {},
   "source": [
    "4. Check and remove rows with duplicate data."
   ]
  },
  {
   "cell_type": "code",
   "execution_count": 12,
   "id": "2c2bb358",
   "metadata": {},
   "outputs": [
    {
     "name": "stdout",
     "output_type": "stream",
     "text": [
      "16\n"
     ]
    }
   ],
   "source": [
    "print(airport.duplicated().sum())"
   ]
  },
  {
   "cell_type": "code",
   "execution_count": 13,
   "id": "558ca2dd",
   "metadata": {},
   "outputs": [
    {
     "data": {
      "text/plain": [
       "(94848, 13)"
      ]
     },
     "execution_count": 13,
     "metadata": {},
     "output_type": "execute_result"
    }
   ],
   "source": [
    "airport.shape"
   ]
  },
  {
   "cell_type": "code",
   "execution_count": 14,
   "id": "d733ea27",
   "metadata": {},
   "outputs": [
    {
     "data": {
      "text/plain": [
       "(94832, 13)"
      ]
     },
     "execution_count": 14,
     "metadata": {},
     "output_type": "execute_result"
    }
   ],
   "source": [
    "airport.drop_duplicates(inplace=True)\n",
    "airport.shape"
   ]
  },
  {
   "cell_type": "code",
   "execution_count": 15,
   "id": "2e0bb371",
   "metadata": {},
   "outputs": [
    {
     "name": "stdout",
     "output_type": "stream",
     "text": [
      "1\n"
     ]
    }
   ],
   "source": [
    "print(medical.duplicated().sum())"
   ]
  },
  {
   "cell_type": "code",
   "execution_count": 16,
   "id": "f29026f7",
   "metadata": {},
   "outputs": [
    {
     "data": {
      "text/plain": [
       "(1338, 7)"
      ]
     },
     "execution_count": 16,
     "metadata": {},
     "output_type": "execute_result"
    }
   ],
   "source": [
    "medical.shape"
   ]
  },
  {
   "cell_type": "code",
   "execution_count": 17,
   "id": "1c00bf0a",
   "metadata": {},
   "outputs": [
    {
     "data": {
      "text/plain": [
       "(1337, 7)"
      ]
     },
     "execution_count": 17,
     "metadata": {},
     "output_type": "execute_result"
    }
   ],
   "source": [
    "medical.drop_duplicates(inplace=True)\n",
    "medical.shape"
   ]
  },
  {
   "cell_type": "markdown",
   "id": "a4ab3d20",
   "metadata": {},
   "source": [
    "5. Check and remove rows with missing data"
   ]
  },
  {
   "cell_type": "code",
   "execution_count": 18,
   "id": "82e211aa",
   "metadata": {},
   "outputs": [
    {
     "name": "stdout",
     "output_type": "stream",
     "text": [
      "age         0\n",
      "sex         0\n",
      "bmi         0\n",
      "children    0\n",
      "smoker      0\n",
      "region      0\n",
      "charges     0\n",
      "dtype: int64\n"
     ]
    }
   ],
   "source": [
    "print(medical.isna().sum())"
   ]
  },
  {
   "cell_type": "code",
   "execution_count": 19,
   "id": "1b613c14",
   "metadata": {},
   "outputs": [
    {
     "data": {
      "text/plain": [
       "(1337, 7)"
      ]
     },
     "execution_count": 19,
     "metadata": {},
     "output_type": "execute_result"
    }
   ],
   "source": [
    "medical.shape"
   ]
  },
  {
   "cell_type": "code",
   "execution_count": 20,
   "id": "4a224858",
   "metadata": {},
   "outputs": [
    {
     "data": {
      "text/plain": [
       "(1337, 7)"
      ]
     },
     "execution_count": 20,
     "metadata": {},
     "output_type": "execute_result"
    }
   ],
   "source": [
    "medical.dropna(inplace=True)\n",
    "medical.shape #there are no rows with empty data"
   ]
  },
  {
   "cell_type": "code",
   "execution_count": 21,
   "id": "51220521",
   "metadata": {},
   "outputs": [
    {
     "name": "stdout",
     "output_type": "stream",
     "text": [
      "Claim Number     0\n",
      "Date Received    0\n",
      "Incident Date    0\n",
      "Airport Code     0\n",
      "Airport Name     0\n",
      "Airline Name     0\n",
      "Claim Type       0\n",
      "Claim Site       0\n",
      "Item             0\n",
      "Claim Amount     0\n",
      "Status           0\n",
      "Close Amount     0\n",
      "Disposition      0\n",
      "dtype: int64\n"
     ]
    }
   ],
   "source": [
    "print(airport.isna().sum())"
   ]
  },
  {
   "cell_type": "code",
   "execution_count": 22,
   "id": "115301d9",
   "metadata": {},
   "outputs": [
    {
     "data": {
      "text/plain": [
       "(94832, 13)"
      ]
     },
     "execution_count": 22,
     "metadata": {},
     "output_type": "execute_result"
    }
   ],
   "source": [
    "airport.shape"
   ]
  },
  {
   "cell_type": "code",
   "execution_count": 23,
   "id": "708791c2",
   "metadata": {},
   "outputs": [
    {
     "data": {
      "text/plain": [
       "(94832, 13)"
      ]
     },
     "execution_count": 23,
     "metadata": {},
     "output_type": "execute_result"
    }
   ],
   "source": [
    "airport.dropna(inplace = True)\n",
    "airport.shape #there are no rows with empty data"
   ]
  },
  {
   "cell_type": "markdown",
   "id": "b4806036",
   "metadata": {},
   "source": [
    "## Primary Tasks: Airport"
   ]
  },
  {
   "cell_type": "markdown",
   "id": "8e01fb02",
   "metadata": {},
   "source": [
    "1. Rename the columns for the airports dataset."
   ]
  },
  {
   "cell_type": "code",
   "execution_count": 24,
   "id": "8de4304a",
   "metadata": {},
   "outputs": [
    {
     "data": {
      "text/html": [
       "<div>\n",
       "<style scoped>\n",
       "    .dataframe tbody tr th:only-of-type {\n",
       "        vertical-align: middle;\n",
       "    }\n",
       "\n",
       "    .dataframe tbody tr th {\n",
       "        vertical-align: top;\n",
       "    }\n",
       "\n",
       "    .dataframe thead th {\n",
       "        text-align: right;\n",
       "    }\n",
       "</style>\n",
       "<table border=\"1\" class=\"dataframe\">\n",
       "  <thead>\n",
       "    <tr style=\"text-align: right;\">\n",
       "      <th></th>\n",
       "      <th>Claim Number</th>\n",
       "      <th>Date Received</th>\n",
       "      <th>Incident Date</th>\n",
       "      <th>Airport Code</th>\n",
       "      <th>Airport Name</th>\n",
       "      <th>Airline Name</th>\n",
       "      <th>Claim Type</th>\n",
       "      <th>Claim Site</th>\n",
       "      <th>Item</th>\n",
       "      <th>Claim Amount</th>\n",
       "      <th>Status</th>\n",
       "      <th>Close Amount</th>\n",
       "      <th>Disposition</th>\n",
       "    </tr>\n",
       "  </thead>\n",
       "  <tbody>\n",
       "    <tr>\n",
       "      <th>0</th>\n",
       "      <td>0909802M</td>\n",
       "      <td>4-Jan-02</td>\n",
       "      <td>12/12/2002 0:00</td>\n",
       "      <td>EWR</td>\n",
       "      <td>Newark International Airport</td>\n",
       "      <td>Continental Airlines</td>\n",
       "      <td>Property Damage</td>\n",
       "      <td>Checkpoint</td>\n",
       "      <td>Other</td>\n",
       "      <td>350.00</td>\n",
       "      <td>Approved</td>\n",
       "      <td>350.00</td>\n",
       "      <td>Approve in Full</td>\n",
       "    </tr>\n",
       "    <tr>\n",
       "      <th>1</th>\n",
       "      <td>0202445M</td>\n",
       "      <td>4-Feb-02</td>\n",
       "      <td>11/26/2003 0:00</td>\n",
       "      <td>STL</td>\n",
       "      <td>Lambert St. Louis International</td>\n",
       "      <td>American Airlines</td>\n",
       "      <td>Property Damage</td>\n",
       "      <td>Checked Baggage</td>\n",
       "      <td>Cell Phones</td>\n",
       "      <td>278.88</td>\n",
       "      <td>Settled</td>\n",
       "      <td>227.92</td>\n",
       "      <td>Settle</td>\n",
       "    </tr>\n",
       "    <tr>\n",
       "      <th>2</th>\n",
       "      <td>0909816M</td>\n",
       "      <td>7-Feb-02</td>\n",
       "      <td>1/6/2003 0:00</td>\n",
       "      <td>MIA</td>\n",
       "      <td>Miami International Airport</td>\n",
       "      <td>American Airlines</td>\n",
       "      <td>Property Damage</td>\n",
       "      <td>Checkpoint</td>\n",
       "      <td>Luggage (all types including footlockers)</td>\n",
       "      <td>50.00</td>\n",
       "      <td>Approved</td>\n",
       "      <td>50.00</td>\n",
       "      <td>Approve in Full</td>\n",
       "    </tr>\n",
       "    <tr>\n",
       "      <th>3</th>\n",
       "      <td>2.00503E+12</td>\n",
       "      <td>18-Feb-02</td>\n",
       "      <td>2/5/2005 0:00</td>\n",
       "      <td>MCO</td>\n",
       "      <td>Orlando International Airport</td>\n",
       "      <td>Delta (Song)</td>\n",
       "      <td>Property Damage</td>\n",
       "      <td>Checkpoint</td>\n",
       "      <td>Baby - Strollers; car seats; playpen; etc.</td>\n",
       "      <td>84.79</td>\n",
       "      <td>Approved</td>\n",
       "      <td>84.79</td>\n",
       "      <td>Approve in Full</td>\n",
       "    </tr>\n",
       "    <tr>\n",
       "      <th>4</th>\n",
       "      <td>2.00503E+12</td>\n",
       "      <td>18-Feb-02</td>\n",
       "      <td>2/17/2005 0:00</td>\n",
       "      <td>CAK</td>\n",
       "      <td>Akron-Canton Regional</td>\n",
       "      <td>Air Tran Airlines(do not use)</td>\n",
       "      <td>Passenger Property Loss</td>\n",
       "      <td>Checked Baggage</td>\n",
       "      <td>Other</td>\n",
       "      <td>459.01</td>\n",
       "      <td>Settled</td>\n",
       "      <td>227.00</td>\n",
       "      <td>Settle</td>\n",
       "    </tr>\n",
       "  </tbody>\n",
       "</table>\n",
       "</div>"
      ],
      "text/plain": [
       "  Claim Number Date Received    Incident Date Airport Code  \\\n",
       "0     0909802M      4-Jan-02  12/12/2002 0:00          EWR   \n",
       "1     0202445M      4-Feb-02  11/26/2003 0:00          STL   \n",
       "2     0909816M      7-Feb-02    1/6/2003 0:00          MIA   \n",
       "3  2.00503E+12     18-Feb-02    2/5/2005 0:00          MCO   \n",
       "4  2.00503E+12     18-Feb-02   2/17/2005 0:00          CAK   \n",
       "\n",
       "                      Airport Name                   Airline Name  \\\n",
       "0     Newark International Airport           Continental Airlines   \n",
       "1  Lambert St. Louis International              American Airlines   \n",
       "2      Miami International Airport              American Airlines   \n",
       "3    Orlando International Airport                   Delta (Song)   \n",
       "4            Akron-Canton Regional  Air Tran Airlines(do not use)   \n",
       "\n",
       "                Claim Type       Claim Site  \\\n",
       "0          Property Damage       Checkpoint   \n",
       "1          Property Damage  Checked Baggage   \n",
       "2          Property Damage       Checkpoint   \n",
       "3          Property Damage       Checkpoint   \n",
       "4  Passenger Property Loss  Checked Baggage   \n",
       "\n",
       "                                         Item  Claim Amount    Status  \\\n",
       "0                                       Other        350.00  Approved   \n",
       "1                                 Cell Phones        278.88   Settled   \n",
       "2   Luggage (all types including footlockers)         50.00  Approved   \n",
       "3  Baby - Strollers; car seats; playpen; etc.         84.79  Approved   \n",
       "4                                       Other        459.01   Settled   \n",
       "\n",
       "   Close Amount      Disposition  \n",
       "0        350.00  Approve in Full  \n",
       "1        227.92           Settle  \n",
       "2         50.00  Approve in Full  \n",
       "3         84.79  Approve in Full  \n",
       "4        227.00           Settle  "
      ]
     },
     "execution_count": 24,
     "metadata": {},
     "output_type": "execute_result"
    }
   ],
   "source": [
    "airport.head()"
   ]
  },
  {
   "cell_type": "code",
   "execution_count": 25,
   "id": "f4b5e845",
   "metadata": {},
   "outputs": [
    {
     "data": {
      "text/html": [
       "<div>\n",
       "<style scoped>\n",
       "    .dataframe tbody tr th:only-of-type {\n",
       "        vertical-align: middle;\n",
       "    }\n",
       "\n",
       "    .dataframe tbody tr th {\n",
       "        vertical-align: top;\n",
       "    }\n",
       "\n",
       "    .dataframe thead th {\n",
       "        text-align: right;\n",
       "    }\n",
       "</style>\n",
       "<table border=\"1\" class=\"dataframe\">\n",
       "  <thead>\n",
       "    <tr style=\"text-align: right;\">\n",
       "      <th></th>\n",
       "      <th>Claim_Number</th>\n",
       "      <th>Date_Received</th>\n",
       "      <th>Incident_Date</th>\n",
       "      <th>Airport_Code</th>\n",
       "      <th>Airport_Name</th>\n",
       "      <th>Airline_Name</th>\n",
       "      <th>Claim_Type</th>\n",
       "      <th>Claim_Site</th>\n",
       "      <th>Item</th>\n",
       "      <th>Claim_Amount</th>\n",
       "      <th>Status</th>\n",
       "      <th>Close_Amount</th>\n",
       "      <th>Disposition</th>\n",
       "    </tr>\n",
       "  </thead>\n",
       "  <tbody>\n",
       "    <tr>\n",
       "      <th>0</th>\n",
       "      <td>0909802M</td>\n",
       "      <td>4-Jan-02</td>\n",
       "      <td>12/12/2002 0:00</td>\n",
       "      <td>EWR</td>\n",
       "      <td>Newark International Airport</td>\n",
       "      <td>Continental Airlines</td>\n",
       "      <td>Property Damage</td>\n",
       "      <td>Checkpoint</td>\n",
       "      <td>Other</td>\n",
       "      <td>350.00</td>\n",
       "      <td>Approved</td>\n",
       "      <td>350.00</td>\n",
       "      <td>Approve in Full</td>\n",
       "    </tr>\n",
       "    <tr>\n",
       "      <th>1</th>\n",
       "      <td>0202445M</td>\n",
       "      <td>4-Feb-02</td>\n",
       "      <td>11/26/2003 0:00</td>\n",
       "      <td>STL</td>\n",
       "      <td>Lambert St. Louis International</td>\n",
       "      <td>American Airlines</td>\n",
       "      <td>Property Damage</td>\n",
       "      <td>Checked Baggage</td>\n",
       "      <td>Cell Phones</td>\n",
       "      <td>278.88</td>\n",
       "      <td>Settled</td>\n",
       "      <td>227.92</td>\n",
       "      <td>Settle</td>\n",
       "    </tr>\n",
       "    <tr>\n",
       "      <th>2</th>\n",
       "      <td>0909816M</td>\n",
       "      <td>7-Feb-02</td>\n",
       "      <td>1/6/2003 0:00</td>\n",
       "      <td>MIA</td>\n",
       "      <td>Miami International Airport</td>\n",
       "      <td>American Airlines</td>\n",
       "      <td>Property Damage</td>\n",
       "      <td>Checkpoint</td>\n",
       "      <td>Luggage (all types including footlockers)</td>\n",
       "      <td>50.00</td>\n",
       "      <td>Approved</td>\n",
       "      <td>50.00</td>\n",
       "      <td>Approve in Full</td>\n",
       "    </tr>\n",
       "    <tr>\n",
       "      <th>3</th>\n",
       "      <td>2.00503E+12</td>\n",
       "      <td>18-Feb-02</td>\n",
       "      <td>2/5/2005 0:00</td>\n",
       "      <td>MCO</td>\n",
       "      <td>Orlando International Airport</td>\n",
       "      <td>Delta (Song)</td>\n",
       "      <td>Property Damage</td>\n",
       "      <td>Checkpoint</td>\n",
       "      <td>Baby - Strollers; car seats; playpen; etc.</td>\n",
       "      <td>84.79</td>\n",
       "      <td>Approved</td>\n",
       "      <td>84.79</td>\n",
       "      <td>Approve in Full</td>\n",
       "    </tr>\n",
       "    <tr>\n",
       "      <th>4</th>\n",
       "      <td>2.00503E+12</td>\n",
       "      <td>18-Feb-02</td>\n",
       "      <td>2/17/2005 0:00</td>\n",
       "      <td>CAK</td>\n",
       "      <td>Akron-Canton Regional</td>\n",
       "      <td>Air Tran Airlines(do not use)</td>\n",
       "      <td>Passenger Property Loss</td>\n",
       "      <td>Checked Baggage</td>\n",
       "      <td>Other</td>\n",
       "      <td>459.01</td>\n",
       "      <td>Settled</td>\n",
       "      <td>227.00</td>\n",
       "      <td>Settle</td>\n",
       "    </tr>\n",
       "  </tbody>\n",
       "</table>\n",
       "</div>"
      ],
      "text/plain": [
       "  Claim_Number Date_Received    Incident_Date Airport_Code  \\\n",
       "0     0909802M      4-Jan-02  12/12/2002 0:00          EWR   \n",
       "1     0202445M      4-Feb-02  11/26/2003 0:00          STL   \n",
       "2     0909816M      7-Feb-02    1/6/2003 0:00          MIA   \n",
       "3  2.00503E+12     18-Feb-02    2/5/2005 0:00          MCO   \n",
       "4  2.00503E+12     18-Feb-02   2/17/2005 0:00          CAK   \n",
       "\n",
       "                      Airport_Name                   Airline_Name  \\\n",
       "0     Newark International Airport           Continental Airlines   \n",
       "1  Lambert St. Louis International              American Airlines   \n",
       "2      Miami International Airport              American Airlines   \n",
       "3    Orlando International Airport                   Delta (Song)   \n",
       "4            Akron-Canton Regional  Air Tran Airlines(do not use)   \n",
       "\n",
       "                Claim_Type       Claim_Site  \\\n",
       "0          Property Damage       Checkpoint   \n",
       "1          Property Damage  Checked Baggage   \n",
       "2          Property Damage       Checkpoint   \n",
       "3          Property Damage       Checkpoint   \n",
       "4  Passenger Property Loss  Checked Baggage   \n",
       "\n",
       "                                         Item  Claim_Amount    Status  \\\n",
       "0                                       Other        350.00  Approved   \n",
       "1                                 Cell Phones        278.88   Settled   \n",
       "2   Luggage (all types including footlockers)         50.00  Approved   \n",
       "3  Baby - Strollers; car seats; playpen; etc.         84.79  Approved   \n",
       "4                                       Other        459.01   Settled   \n",
       "\n",
       "   Close_Amount      Disposition  \n",
       "0        350.00  Approve in Full  \n",
       "1        227.92           Settle  \n",
       "2         50.00  Approve in Full  \n",
       "3         84.79  Approve in Full  \n",
       "4        227.00           Settle  "
      ]
     },
     "execution_count": 25,
     "metadata": {},
     "output_type": "execute_result"
    }
   ],
   "source": [
    "airport = airport.rename(columns = {'Claim Number': 'Claim_Number', 'Date Received': 'Date_Received', 'Incident Date':\n",
    "'Incident_Date', 'Airport Code': 'Airport_Code', 'Airport Name': 'Airport_Name', 'Airline Name': 'Airline_Name',\n",
    "'Claim Type': 'Claim_Type', 'Claim Site': 'Claim_Site', 'Item':'Item', 'Claim Amount': 'Claim_Amount', 'Status':'Status',\n",
    "'Close Amount':'Close_Amount', 'Disposition':'Disposition'})\n",
    "airport.head()"
   ]
  },
  {
   "cell_type": "markdown",
   "id": "7e1ac1d2",
   "metadata": {},
   "source": [
    "2. Change the numeric columns to numeric datatype, more specifically, float"
   ]
  },
  {
   "cell_type": "code",
   "execution_count": 26,
   "id": "5d4089e1",
   "metadata": {},
   "outputs": [
    {
     "data": {
      "text/plain": [
       "Claim_Number      object\n",
       "Date_Received     object\n",
       "Incident_Date     object\n",
       "Airport_Code      object\n",
       "Airport_Name      object\n",
       "Airline_Name      object\n",
       "Claim_Type        object\n",
       "Claim_Site        object\n",
       "Item              object\n",
       "Claim_Amount     float64\n",
       "Status            object\n",
       "Close_Amount     float64\n",
       "Disposition       object\n",
       "dtype: object"
      ]
     },
     "execution_count": 26,
     "metadata": {},
     "output_type": "execute_result"
    }
   ],
   "source": [
    "airport[['Claim_Amount', 'Close_Amount']] = airport[['Claim_Amount', 'Close_Amount']].astype(float)\n",
    "airport.dtypes"
   ]
  },
  {
   "cell_type": "markdown",
   "id": "c22292d6",
   "metadata": {},
   "source": [
    "3.\tChange the Date Received column to a datetime datatype"
   ]
  },
  {
   "cell_type": "code",
   "execution_count": 27,
   "id": "13364b57",
   "metadata": {},
   "outputs": [
    {
     "data": {
      "text/plain": [
       "Claim_Number             object\n",
       "Date_Received    datetime64[ns]\n",
       "Incident_Date            object\n",
       "Airport_Code             object\n",
       "Airport_Name             object\n",
       "Airline_Name             object\n",
       "Claim_Type               object\n",
       "Claim_Site               object\n",
       "Item                     object\n",
       "Claim_Amount            float64\n",
       "Status                   object\n",
       "Close_Amount            float64\n",
       "Disposition              object\n",
       "dtype: object"
      ]
     },
     "execution_count": 27,
     "metadata": {},
     "output_type": "execute_result"
    }
   ],
   "source": [
    "airport['Date_Received']= pd.to_datetime(airport.Date_Received)\n",
    "airport.dtypes"
   ]
  },
  {
   "cell_type": "markdown",
   "id": "b38d3047",
   "metadata": {},
   "source": [
    "4. Get the number of claims in each Claim Site and plot them using chaining method."
   ]
  },
  {
   "cell_type": "code",
   "execution_count": 29,
   "id": "51cee7ff",
   "metadata": {},
   "outputs": [
    {
     "data": {
      "image/png": "[encoded data removed]",
      "text/plain": [
       "<Figure size 640x480 with 1 Axes>"
      ]
     },
     "metadata": {},
     "output_type": "display_data"
    }
   ],
   "source": [
    "airport.groupby('Claim_Site')['Claim_Number'].count().plot(kind='bar', rot = 45, color = 'green')\n",
    "plt.xlabel('Claim Site')\n",
    "plt.ylabel('Number of CLaims')\n",
    "plt.show()"
   ]
  },
  {
   "cell_type": "markdown",
   "id": "3d262652",
   "metadata": {},
   "source": [
    "## Primary Tasks: Medical"
   ]
  },
  {
   "cell_type": "markdown",
   "id": "551a96dd",
   "metadata": {},
   "source": [
    "1. Get the correlations of Age, Children, and BMI with Charges."
   ]
  },
  {
   "cell_type": "code",
   "execution_count": 30,
   "id": "e395876e",
   "metadata": {},
   "outputs": [
    {
     "data": {
      "text/html": [
       "<div>\n",
       "<style scoped>\n",
       "    .dataframe tbody tr th:only-of-type {\n",
       "        vertical-align: middle;\n",
       "    }\n",
       "\n",
       "    .dataframe tbody tr th {\n",
       "        vertical-align: top;\n",
       "    }\n",
       "\n",
       "    .dataframe thead th {\n",
       "        text-align: right;\n",
       "    }\n",
       "</style>\n",
       "<table border=\"1\" class=\"dataframe\">\n",
       "  <thead>\n",
       "    <tr style=\"text-align: right;\">\n",
       "      <th></th>\n",
       "      <th>age</th>\n",
       "      <th>bmi</th>\n",
       "      <th>children</th>\n",
       "      <th>charges</th>\n",
       "    </tr>\n",
       "  </thead>\n",
       "  <tbody>\n",
       "    <tr>\n",
       "      <th>age</th>\n",
       "      <td>1.000000</td>\n",
       "      <td>0.109344</td>\n",
       "      <td>0.041536</td>\n",
       "      <td>0.298308</td>\n",
       "    </tr>\n",
       "    <tr>\n",
       "      <th>bmi</th>\n",
       "      <td>0.109344</td>\n",
       "      <td>1.000000</td>\n",
       "      <td>0.012755</td>\n",
       "      <td>0.198401</td>\n",
       "    </tr>\n",
       "    <tr>\n",
       "      <th>children</th>\n",
       "      <td>0.041536</td>\n",
       "      <td>0.012755</td>\n",
       "      <td>1.000000</td>\n",
       "      <td>0.067389</td>\n",
       "    </tr>\n",
       "    <tr>\n",
       "      <th>charges</th>\n",
       "      <td>0.298308</td>\n",
       "      <td>0.198401</td>\n",
       "      <td>0.067389</td>\n",
       "      <td>1.000000</td>\n",
       "    </tr>\n",
       "  </tbody>\n",
       "</table>\n",
       "</div>"
      ],
      "text/plain": [
       "               age       bmi  children   charges\n",
       "age       1.000000  0.109344  0.041536  0.298308\n",
       "bmi       0.109344  1.000000  0.012755  0.198401\n",
       "children  0.041536  0.012755  1.000000  0.067389\n",
       "charges   0.298308  0.198401  0.067389  1.000000"
      ]
     },
     "execution_count": 30,
     "metadata": {},
     "output_type": "execute_result"
    }
   ],
   "source": [
    "medical.corr()"
   ]
  },
  {
   "cell_type": "code",
   "execution_count": 31,
   "id": "7adcfa54",
   "metadata": {},
   "outputs": [
    {
     "data": {
      "text/html": [
       "<div>\n",
       "<style scoped>\n",
       "    .dataframe tbody tr th:only-of-type {\n",
       "        vertical-align: middle;\n",
       "    }\n",
       "\n",
       "    .dataframe tbody tr th {\n",
       "        vertical-align: top;\n",
       "    }\n",
       "\n",
       "    .dataframe thead th {\n",
       "        text-align: right;\n",
       "    }\n",
       "</style>\n",
       "<table border=\"1\" class=\"dataframe\">\n",
       "  <thead>\n",
       "    <tr style=\"text-align: right;\">\n",
       "      <th></th>\n",
       "      <th>age</th>\n",
       "      <th>bmi</th>\n",
       "      <th>children</th>\n",
       "      <th>charges</th>\n",
       "    </tr>\n",
       "  </thead>\n",
       "  <tbody>\n",
       "    <tr>\n",
       "      <th>age</th>\n",
       "      <td>1.000000</td>\n",
       "      <td>0.109344</td>\n",
       "      <td>0.041536</td>\n",
       "      <td>0.298308</td>\n",
       "    </tr>\n",
       "    <tr>\n",
       "      <th>bmi</th>\n",
       "      <td>0.109344</td>\n",
       "      <td>1.000000</td>\n",
       "      <td>0.012755</td>\n",
       "      <td>0.198401</td>\n",
       "    </tr>\n",
       "    <tr>\n",
       "      <th>children</th>\n",
       "      <td>0.041536</td>\n",
       "      <td>0.012755</td>\n",
       "      <td>1.000000</td>\n",
       "      <td>0.067389</td>\n",
       "    </tr>\n",
       "    <tr>\n",
       "      <th>charges</th>\n",
       "      <td>0.298308</td>\n",
       "      <td>0.198401</td>\n",
       "      <td>0.067389</td>\n",
       "      <td>1.000000</td>\n",
       "    </tr>\n",
       "  </tbody>\n",
       "</table>\n",
       "</div>"
      ],
      "text/plain": [
       "               age       bmi  children   charges\n",
       "age       1.000000  0.109344  0.041536  0.298308\n",
       "bmi       0.109344  1.000000  0.012755  0.198401\n",
       "children  0.041536  0.012755  1.000000  0.067389\n",
       "charges   0.298308  0.198401  0.067389  1.000000"
      ]
     },
     "execution_count": 31,
     "metadata": {},
     "output_type": "execute_result"
    }
   ],
   "source": [
    "medical_corr= medical[['age', 'bmi', 'children', 'charges']].corr()\n",
    "medical_corr"
   ]
  },
  {
   "cell_type": "markdown",
   "id": "f1d71d11",
   "metadata": {},
   "source": [
    "2. Check and remove outliers for the Charges column."
   ]
  },
  {
   "cell_type": "code",
   "execution_count": 32,
   "id": "cee90d81",
   "metadata": {},
   "outputs": [],
   "source": [
    "from scipy import stats\n",
    "import seaborn as sns"
   ]
  },
  {
   "cell_type": "code",
   "execution_count": 33,
   "id": "3dd2eefc",
   "metadata": {},
   "outputs": [
    {
     "data": {
      "text/plain": [
       "<AxesSubplot:>"
      ]
     },
     "execution_count": 33,
     "metadata": {},
     "output_type": "execute_result"
    },
    {
     "data": {
      "image/png": "[encoded data removed]",
      "text/plain": [
       "<Figure size 640x480 with 1 Axes>"
      ]
     },
     "metadata": {},
     "output_type": "display_data"
    }
   ],
   "source": [
    "medical.boxplot(column = ['charges'])"
   ]
  },
  {
   "cell_type": "code",
   "execution_count": 34,
   "id": "477ff4fa",
   "metadata": {},
   "outputs": [],
   "source": [
    "from scipy import stats\n",
    "import seaborn as sns"
   ]
  },
  {
   "cell_type": "code",
   "execution_count": 35,
   "id": "5bcacf55",
   "metadata": {},
   "outputs": [],
   "source": [
    "z_score = np.abs(stats.zscore(medical['charges']))\n",
    "outliers = np.where(z_score > 3)"
   ]
  },
  {
   "cell_type": "code",
   "execution_count": 36,
   "id": "ecd05d36",
   "metadata": {},
   "outputs": [
    {
     "data": {
      "text/plain": [
       "(1337, 7)"
      ]
     },
     "execution_count": 36,
     "metadata": {},
     "output_type": "execute_result"
    }
   ],
   "source": [
    "medical.shape"
   ]
  },
  {
   "cell_type": "code",
   "execution_count": 37,
   "id": "422d91fe",
   "metadata": {},
   "outputs": [],
   "source": [
    "from scipy import stats\n",
    "z_scores = stats.zscore(medical['charges'])\n",
    "outlier1 = (np.abs(z_scores) > 3)\n",
    "medical = medical[~outlier1]"
   ]
  },
  {
   "cell_type": "code",
   "execution_count": 38,
   "id": "4e46a5cf",
   "metadata": {},
   "outputs": [
    {
     "data": {
      "text/plain": [
       "(1330, 7)"
      ]
     },
     "execution_count": 38,
     "metadata": {},
     "output_type": "execute_result"
    }
   ],
   "source": [
    "medical.shape"
   ]
  },
  {
   "cell_type": "code",
   "execution_count": 39,
   "id": "30b1936b",
   "metadata": {},
   "outputs": [
    {
     "data": {
      "text/plain": [
       "<AxesSubplot:>"
      ]
     },
     "execution_count": 39,
     "metadata": {},
     "output_type": "execute_result"
    },
    {
     "data": {
      "image/png": "[encoded data removed]",
      "text/plain": [
       "<Figure size 640x480 with 1 Axes>"
      ]
     },
     "metadata": {},
     "output_type": "display_data"
    }
   ],
   "source": [
    "medical.boxplot(column=['charges'])"
   ]
  },
  {
   "cell_type": "code",
   "execution_count": 40,
   "id": "cdd46ca1",
   "metadata": {},
   "outputs": [
    {
     "data": {
      "text/html": [
       "<div>\n",
       "<style scoped>\n",
       "    .dataframe tbody tr th:only-of-type {\n",
       "        vertical-align: middle;\n",
       "    }\n",
       "\n",
       "    .dataframe tbody tr th {\n",
       "        vertical-align: top;\n",
       "    }\n",
       "\n",
       "    .dataframe thead th {\n",
       "        text-align: right;\n",
       "    }\n",
       "</style>\n",
       "<table border=\"1\" class=\"dataframe\">\n",
       "  <thead>\n",
       "    <tr style=\"text-align: right;\">\n",
       "      <th></th>\n",
       "      <th>age</th>\n",
       "      <th>sex</th>\n",
       "      <th>bmi</th>\n",
       "      <th>children</th>\n",
       "      <th>smoker</th>\n",
       "      <th>region</th>\n",
       "      <th>charges</th>\n",
       "    </tr>\n",
       "  </thead>\n",
       "  <tbody>\n",
       "    <tr>\n",
       "      <th>0</th>\n",
       "      <td>19</td>\n",
       "      <td>female</td>\n",
       "      <td>27.900</td>\n",
       "      <td>0</td>\n",
       "      <td>yes</td>\n",
       "      <td>southwest</td>\n",
       "      <td>16884.92400</td>\n",
       "    </tr>\n",
       "    <tr>\n",
       "      <th>1</th>\n",
       "      <td>18</td>\n",
       "      <td>male</td>\n",
       "      <td>33.770</td>\n",
       "      <td>1</td>\n",
       "      <td>no</td>\n",
       "      <td>southeast</td>\n",
       "      <td>1725.55230</td>\n",
       "    </tr>\n",
       "    <tr>\n",
       "      <th>2</th>\n",
       "      <td>28</td>\n",
       "      <td>male</td>\n",
       "      <td>33.000</td>\n",
       "      <td>3</td>\n",
       "      <td>no</td>\n",
       "      <td>southeast</td>\n",
       "      <td>4449.46200</td>\n",
       "    </tr>\n",
       "    <tr>\n",
       "      <th>3</th>\n",
       "      <td>33</td>\n",
       "      <td>male</td>\n",
       "      <td>22.705</td>\n",
       "      <td>0</td>\n",
       "      <td>no</td>\n",
       "      <td>northwest</td>\n",
       "      <td>21984.47061</td>\n",
       "    </tr>\n",
       "    <tr>\n",
       "      <th>4</th>\n",
       "      <td>32</td>\n",
       "      <td>male</td>\n",
       "      <td>28.880</td>\n",
       "      <td>0</td>\n",
       "      <td>no</td>\n",
       "      <td>northwest</td>\n",
       "      <td>3866.85520</td>\n",
       "    </tr>\n",
       "    <tr>\n",
       "      <th>...</th>\n",
       "      <td>...</td>\n",
       "      <td>...</td>\n",
       "      <td>...</td>\n",
       "      <td>...</td>\n",
       "      <td>...</td>\n",
       "      <td>...</td>\n",
       "      <td>...</td>\n",
       "    </tr>\n",
       "    <tr>\n",
       "      <th>1333</th>\n",
       "      <td>50</td>\n",
       "      <td>male</td>\n",
       "      <td>30.970</td>\n",
       "      <td>3</td>\n",
       "      <td>no</td>\n",
       "      <td>northwest</td>\n",
       "      <td>10600.54830</td>\n",
       "    </tr>\n",
       "    <tr>\n",
       "      <th>1334</th>\n",
       "      <td>18</td>\n",
       "      <td>female</td>\n",
       "      <td>31.920</td>\n",
       "      <td>0</td>\n",
       "      <td>no</td>\n",
       "      <td>northeast</td>\n",
       "      <td>2205.98080</td>\n",
       "    </tr>\n",
       "    <tr>\n",
       "      <th>1335</th>\n",
       "      <td>18</td>\n",
       "      <td>female</td>\n",
       "      <td>36.850</td>\n",
       "      <td>0</td>\n",
       "      <td>no</td>\n",
       "      <td>southeast</td>\n",
       "      <td>1629.83350</td>\n",
       "    </tr>\n",
       "    <tr>\n",
       "      <th>1336</th>\n",
       "      <td>21</td>\n",
       "      <td>female</td>\n",
       "      <td>25.800</td>\n",
       "      <td>0</td>\n",
       "      <td>no</td>\n",
       "      <td>southwest</td>\n",
       "      <td>2007.94500</td>\n",
       "    </tr>\n",
       "    <tr>\n",
       "      <th>1337</th>\n",
       "      <td>61</td>\n",
       "      <td>female</td>\n",
       "      <td>29.070</td>\n",
       "      <td>0</td>\n",
       "      <td>yes</td>\n",
       "      <td>northwest</td>\n",
       "      <td>29141.36030</td>\n",
       "    </tr>\n",
       "  </tbody>\n",
       "</table>\n",
       "<p>1191 rows × 7 columns</p>\n",
       "</div>"
      ],
      "text/plain": [
       "      age     sex     bmi  children smoker     region      charges\n",
       "0      19  female  27.900         0    yes  southwest  16884.92400\n",
       "1      18    male  33.770         1     no  southeast   1725.55230\n",
       "2      28    male  33.000         3     no  southeast   4449.46200\n",
       "3      33    male  22.705         0     no  northwest  21984.47061\n",
       "4      32    male  28.880         0     no  northwest   3866.85520\n",
       "...   ...     ...     ...       ...    ...        ...          ...\n",
       "1333   50    male  30.970         3     no  northwest  10600.54830\n",
       "1334   18  female  31.920         0     no  northeast   2205.98080\n",
       "1335   18  female  36.850         0     no  southeast   1629.83350\n",
       "1336   21  female  25.800         0     no  southwest   2007.94500\n",
       "1337   61  female  29.070         0    yes  northwest  29141.36030\n",
       "\n",
       "[1191 rows x 7 columns]"
      ]
     },
     "execution_count": 40,
     "metadata": {},
     "output_type": "execute_result"
    },
    {
     "data": {
      "image/png": "[encoded data removed]",
      "text/plain": [
       "<Figure size 640x480 with 1 Axes>"
      ]
     },
     "metadata": {},
     "output_type": "display_data"
    }
   ],
   "source": [
    "Q1 = np.percentile(medical['charges'], 25, interpolation = 'midpoint')\n",
    "Q3 = np.percentile(medical['charges'], 75, interpolation = 'midpoint')\n",
    "IQR = Q3 - Q1\n",
    "upper = Q3+1.5*IQR\n",
    "lower = Q1-1.5*IQR\n",
    "medical = medical.loc[(medical['charges'] < upper ) & (medical['charges'] > lower)]\n",
    "sns.boxplot (x = medical['charges'])\n",
    "medical"
   ]
  },
  {
   "cell_type": "code",
   "execution_count": 41,
   "id": "e3a897f1",
   "metadata": {},
   "outputs": [
    {
     "data": {
      "text/plain": [
       "(1191, 7)"
      ]
     },
     "execution_count": 41,
     "metadata": {},
     "output_type": "execute_result"
    }
   ],
   "source": [
    "medical.shape"
   ]
  },
  {
   "cell_type": "markdown",
   "id": "f8a46249",
   "metadata": {},
   "source": [
    "3. Get the number of people distributed by region and create a plot using the chaining method."
   ]
  },
  {
   "cell_type": "code",
   "execution_count": 43,
   "id": "15e1b100",
   "metadata": {},
   "outputs": [
    {
     "data": {
      "image/png": "[encoded data removed]",
      "text/plain": [
       "<Figure size 640x480 with 1 Axes>"
      ]
     },
     "metadata": {},
     "output_type": "display_data"
    }
   ],
   "source": [
    "medical_region = medical.groupby(['region'])['region'].count().plot(kind = 'bar', rot = 70, color = 'purple')\n",
    "plt.show()"
   ]
  },
  {
   "cell_type": "markdown",
   "id": "5263664f",
   "metadata": {},
   "source": [
    "## Advanced Tasks: Airport"
   ]
  },
  {
   "cell_type": "markdown",
   "id": "dc8660e1",
   "metadata": {},
   "source": [
    "1. Get the average claim amoount."
   ]
  },
  {
   "cell_type": "code",
   "execution_count": 44,
   "id": "8ff70159",
   "metadata": {},
   "outputs": [
    {
     "data": {
      "text/html": [
       "<div>\n",
       "<style scoped>\n",
       "    .dataframe tbody tr th:only-of-type {\n",
       "        vertical-align: middle;\n",
       "    }\n",
       "\n",
       "    .dataframe tbody tr th {\n",
       "        vertical-align: top;\n",
       "    }\n",
       "\n",
       "    .dataframe thead th {\n",
       "        text-align: right;\n",
       "    }\n",
       "</style>\n",
       "<table border=\"1\" class=\"dataframe\">\n",
       "  <thead>\n",
       "    <tr style=\"text-align: right;\">\n",
       "      <th></th>\n",
       "      <th>Claim_Number</th>\n",
       "      <th>Date_Received</th>\n",
       "      <th>Incident_Date</th>\n",
       "      <th>Airport_Code</th>\n",
       "      <th>Airport_Name</th>\n",
       "      <th>Airline_Name</th>\n",
       "      <th>Claim_Type</th>\n",
       "      <th>Claim_Site</th>\n",
       "      <th>Item</th>\n",
       "      <th>Claim_Amount</th>\n",
       "      <th>Status</th>\n",
       "      <th>Close_Amount</th>\n",
       "      <th>Disposition</th>\n",
       "    </tr>\n",
       "  </thead>\n",
       "  <tbody>\n",
       "    <tr>\n",
       "      <th>0</th>\n",
       "      <td>0909802M</td>\n",
       "      <td>2002-01-04</td>\n",
       "      <td>12/12/2002 0:00</td>\n",
       "      <td>EWR</td>\n",
       "      <td>Newark International Airport</td>\n",
       "      <td>Continental Airlines</td>\n",
       "      <td>Property Damage</td>\n",
       "      <td>Checkpoint</td>\n",
       "      <td>Other</td>\n",
       "      <td>350.00</td>\n",
       "      <td>Approved</td>\n",
       "      <td>350.00</td>\n",
       "      <td>Approve in Full</td>\n",
       "    </tr>\n",
       "    <tr>\n",
       "      <th>1</th>\n",
       "      <td>0202445M</td>\n",
       "      <td>2002-02-04</td>\n",
       "      <td>11/26/2003 0:00</td>\n",
       "      <td>STL</td>\n",
       "      <td>Lambert St. Louis International</td>\n",
       "      <td>American Airlines</td>\n",
       "      <td>Property Damage</td>\n",
       "      <td>Checked Baggage</td>\n",
       "      <td>Cell Phones</td>\n",
       "      <td>278.88</td>\n",
       "      <td>Settled</td>\n",
       "      <td>227.92</td>\n",
       "      <td>Settle</td>\n",
       "    </tr>\n",
       "    <tr>\n",
       "      <th>2</th>\n",
       "      <td>0909816M</td>\n",
       "      <td>2002-02-07</td>\n",
       "      <td>1/6/2003 0:00</td>\n",
       "      <td>MIA</td>\n",
       "      <td>Miami International Airport</td>\n",
       "      <td>American Airlines</td>\n",
       "      <td>Property Damage</td>\n",
       "      <td>Checkpoint</td>\n",
       "      <td>Luggage (all types including footlockers)</td>\n",
       "      <td>50.00</td>\n",
       "      <td>Approved</td>\n",
       "      <td>50.00</td>\n",
       "      <td>Approve in Full</td>\n",
       "    </tr>\n",
       "    <tr>\n",
       "      <th>3</th>\n",
       "      <td>2.00503E+12</td>\n",
       "      <td>2002-02-18</td>\n",
       "      <td>2/5/2005 0:00</td>\n",
       "      <td>MCO</td>\n",
       "      <td>Orlando International Airport</td>\n",
       "      <td>Delta (Song)</td>\n",
       "      <td>Property Damage</td>\n",
       "      <td>Checkpoint</td>\n",
       "      <td>Baby - Strollers; car seats; playpen; etc.</td>\n",
       "      <td>84.79</td>\n",
       "      <td>Approved</td>\n",
       "      <td>84.79</td>\n",
       "      <td>Approve in Full</td>\n",
       "    </tr>\n",
       "    <tr>\n",
       "      <th>4</th>\n",
       "      <td>2.00503E+12</td>\n",
       "      <td>2002-02-18</td>\n",
       "      <td>2/17/2005 0:00</td>\n",
       "      <td>CAK</td>\n",
       "      <td>Akron-Canton Regional</td>\n",
       "      <td>Air Tran Airlines(do not use)</td>\n",
       "      <td>Passenger Property Loss</td>\n",
       "      <td>Checked Baggage</td>\n",
       "      <td>Other</td>\n",
       "      <td>459.01</td>\n",
       "      <td>Settled</td>\n",
       "      <td>227.00</td>\n",
       "      <td>Settle</td>\n",
       "    </tr>\n",
       "  </tbody>\n",
       "</table>\n",
       "</div>"
      ],
      "text/plain": [
       "  Claim_Number Date_Received    Incident_Date Airport_Code  \\\n",
       "0     0909802M    2002-01-04  12/12/2002 0:00          EWR   \n",
       "1     0202445M    2002-02-04  11/26/2003 0:00          STL   \n",
       "2     0909816M    2002-02-07    1/6/2003 0:00          MIA   \n",
       "3  2.00503E+12    2002-02-18    2/5/2005 0:00          MCO   \n",
       "4  2.00503E+12    2002-02-18   2/17/2005 0:00          CAK   \n",
       "\n",
       "                      Airport_Name                   Airline_Name  \\\n",
       "0     Newark International Airport           Continental Airlines   \n",
       "1  Lambert St. Louis International              American Airlines   \n",
       "2      Miami International Airport              American Airlines   \n",
       "3    Orlando International Airport                   Delta (Song)   \n",
       "4            Akron-Canton Regional  Air Tran Airlines(do not use)   \n",
       "\n",
       "                Claim_Type       Claim_Site  \\\n",
       "0          Property Damage       Checkpoint   \n",
       "1          Property Damage  Checked Baggage   \n",
       "2          Property Damage       Checkpoint   \n",
       "3          Property Damage       Checkpoint   \n",
       "4  Passenger Property Loss  Checked Baggage   \n",
       "\n",
       "                                         Item  Claim_Amount    Status  \\\n",
       "0                                       Other        350.00  Approved   \n",
       "1                                 Cell Phones        278.88   Settled   \n",
       "2   Luggage (all types including footlockers)         50.00  Approved   \n",
       "3  Baby - Strollers; car seats; playpen; etc.         84.79  Approved   \n",
       "4                                       Other        459.01   Settled   \n",
       "\n",
       "   Close_Amount      Disposition  \n",
       "0        350.00  Approve in Full  \n",
       "1        227.92           Settle  \n",
       "2         50.00  Approve in Full  \n",
       "3         84.79  Approve in Full  \n",
       "4        227.00           Settle  "
      ]
     },
     "execution_count": 44,
     "metadata": {},
     "output_type": "execute_result"
    }
   ],
   "source": [
    "airport.head(5)"
   ]
  },
  {
   "cell_type": "code",
   "execution_count": 45,
   "id": "4fba1572",
   "metadata": {},
   "outputs": [
    {
     "data": {
      "text/plain": [
       "3635.4109774129097"
      ]
     },
     "execution_count": 45,
     "metadata": {},
     "output_type": "execute_result"
    }
   ],
   "source": [
    "average_claim = airport['Claim_Amount'].mean()\n",
    "average_claim"
   ]
  },
  {
   "cell_type": "markdown",
   "id": "b7cd979a",
   "metadata": {},
   "source": [
    "2. Create a distribution plot for all claims that are less than 5,000."
   ]
  },
  {
   "cell_type": "code",
   "execution_count": 46,
   "id": "262d4522",
   "metadata": {},
   "outputs": [
    {
     "data": {
      "text/plain": [
       "(array([62982., 14193.,  4986.,  3276.,  2187.,  1287.,  1336.,   863.,\n",
       "          515.,   584.,   345.,   200.,   258.,   170.,   113.]),\n",
       " array([   0.        ,  333.26666667,  666.53333333,  999.8       ,\n",
       "        1333.06666667, 1666.33333333, 1999.6       , 2332.86666667,\n",
       "        2666.13333333, 2999.4       , 3332.66666667, 3665.93333333,\n",
       "        3999.2       , 4332.46666667, 4665.73333333, 4999.        ]),\n",
       " <BarContainer object of 15 artists>)"
      ]
     },
     "execution_count": 46,
     "metadata": {},
     "output_type": "execute_result"
    },
    {
     "data": {
      "image/png": "[encoded data removed]",
      "text/plain": [
       "<Figure size 640x480 with 1 Axes>"
      ]
     },
     "metadata": {},
     "output_type": "display_data"
    }
   ],
   "source": [
    "claims1 = airport[airport['Claim_Amount'] < 5000]\n",
    "plt.hist(claims1['Claim_Amount'], bins = 15, color = 'teal')"
   ]
  },
  {
   "cell_type": "markdown",
   "id": "68d57330",
   "metadata": {},
   "source": [
    "3. Get the top 5 airports with the most claims."
   ]
  },
  {
   "cell_type": "code",
   "execution_count": 47,
   "id": "2544667d",
   "metadata": {},
   "outputs": [
    {
     "data": {
      "text/plain": [
       "Airport_Name\n",
       "Los Angeles International Airport       4492\n",
       "John F. Kennedy International           3835\n",
       "Chicago O'Hare International Airport    3619\n",
       "Newark International Airport            3593\n",
       "Miami International Airport             2986\n",
       "Name: Claim_Amount, dtype: int64"
      ]
     },
     "execution_count": 47,
     "metadata": {},
     "output_type": "execute_result"
    }
   ],
   "source": [
    "airports5 = airport.groupby(['Airport_Name'])['Claim_Amount'].count().sort_values(ascending = False)\n",
    "airports5.head(5)"
   ]
  },
  {
   "cell_type": "markdown",
   "id": "91fa4636",
   "metadata": {},
   "source": [
    "## Advanced Tasks: Medical"
   ]
  },
  {
   "cell_type": "markdown",
   "id": "86fa83e6",
   "metadata": {},
   "source": [
    "1. Get the percentages of obesity."
   ]
  },
  {
   "cell_type": "code",
   "execution_count": 48,
   "id": "ebdb9966",
   "metadata": {},
   "outputs": [
    {
     "data": {
      "text/html": [
       "<div>\n",
       "<style scoped>\n",
       "    .dataframe tbody tr th:only-of-type {\n",
       "        vertical-align: middle;\n",
       "    }\n",
       "\n",
       "    .dataframe tbody tr th {\n",
       "        vertical-align: top;\n",
       "    }\n",
       "\n",
       "    .dataframe thead th {\n",
       "        text-align: right;\n",
       "    }\n",
       "</style>\n",
       "<table border=\"1\" class=\"dataframe\">\n",
       "  <thead>\n",
       "    <tr style=\"text-align: right;\">\n",
       "      <th></th>\n",
       "      <th>age</th>\n",
       "      <th>sex</th>\n",
       "      <th>bmi</th>\n",
       "      <th>children</th>\n",
       "      <th>smoker</th>\n",
       "      <th>region</th>\n",
       "      <th>charges</th>\n",
       "    </tr>\n",
       "  </thead>\n",
       "  <tbody>\n",
       "    <tr>\n",
       "      <th>0</th>\n",
       "      <td>19</td>\n",
       "      <td>female</td>\n",
       "      <td>27.900</td>\n",
       "      <td>0</td>\n",
       "      <td>yes</td>\n",
       "      <td>southwest</td>\n",
       "      <td>16884.92400</td>\n",
       "    </tr>\n",
       "    <tr>\n",
       "      <th>1</th>\n",
       "      <td>18</td>\n",
       "      <td>male</td>\n",
       "      <td>33.770</td>\n",
       "      <td>1</td>\n",
       "      <td>no</td>\n",
       "      <td>southeast</td>\n",
       "      <td>1725.55230</td>\n",
       "    </tr>\n",
       "    <tr>\n",
       "      <th>2</th>\n",
       "      <td>28</td>\n",
       "      <td>male</td>\n",
       "      <td>33.000</td>\n",
       "      <td>3</td>\n",
       "      <td>no</td>\n",
       "      <td>southeast</td>\n",
       "      <td>4449.46200</td>\n",
       "    </tr>\n",
       "    <tr>\n",
       "      <th>3</th>\n",
       "      <td>33</td>\n",
       "      <td>male</td>\n",
       "      <td>22.705</td>\n",
       "      <td>0</td>\n",
       "      <td>no</td>\n",
       "      <td>northwest</td>\n",
       "      <td>21984.47061</td>\n",
       "    </tr>\n",
       "    <tr>\n",
       "      <th>4</th>\n",
       "      <td>32</td>\n",
       "      <td>male</td>\n",
       "      <td>28.880</td>\n",
       "      <td>0</td>\n",
       "      <td>no</td>\n",
       "      <td>northwest</td>\n",
       "      <td>3866.85520</td>\n",
       "    </tr>\n",
       "  </tbody>\n",
       "</table>\n",
       "</div>"
      ],
      "text/plain": [
       "   age     sex     bmi  children smoker     region      charges\n",
       "0   19  female  27.900         0    yes  southwest  16884.92400\n",
       "1   18    male  33.770         1     no  southeast   1725.55230\n",
       "2   28    male  33.000         3     no  southeast   4449.46200\n",
       "3   33    male  22.705         0     no  northwest  21984.47061\n",
       "4   32    male  28.880         0     no  northwest   3866.85520"
      ]
     },
     "execution_count": 48,
     "metadata": {},
     "output_type": "execute_result"
    }
   ],
   "source": [
    "medical.head()"
   ]
  },
  {
   "cell_type": "code",
   "execution_count": 49,
   "id": "d844642b",
   "metadata": {},
   "outputs": [
    {
     "data": {
      "text/plain": [
       "47.43912678421495"
      ]
     },
     "execution_count": 49,
     "metadata": {},
     "output_type": "execute_result"
    }
   ],
   "source": [
    "#if a persons BMI is > than or = to 30, they are obese\n",
    "obese_total = (medical['bmi'] >= 30).sum()\n",
    "obese_per = (obese_total / len(medical)) * 100\n",
    "obese_per"
   ]
  },
  {
   "cell_type": "markdown",
   "id": "1a4eb7f7",
   "metadata": {},
   "source": [
    "## Challenging Tasks: Airport"
   ]
  },
  {
   "cell_type": "markdown",
   "id": "33668756",
   "metadata": {},
   "source": [
    "1. Find out the pattern or trend for Close Amount."
   ]
  },
  {
   "cell_type": "code",
   "execution_count": 50,
   "id": "dd4cbe9c",
   "metadata": {},
   "outputs": [],
   "source": [
    "import matplotlib.pyplot as plt\n",
    "import seaborn as sns"
   ]
  },
  {
   "cell_type": "code",
   "execution_count": 51,
   "id": "03d2f264",
   "metadata": {},
   "outputs": [
    {
     "data": {
      "text/html": [
       "<div>\n",
       "<style scoped>\n",
       "    .dataframe tbody tr th:only-of-type {\n",
       "        vertical-align: middle;\n",
       "    }\n",
       "\n",
       "    .dataframe tbody tr th {\n",
       "        vertical-align: top;\n",
       "    }\n",
       "\n",
       "    .dataframe thead th {\n",
       "        text-align: right;\n",
       "    }\n",
       "</style>\n",
       "<table border=\"1\" class=\"dataframe\">\n",
       "  <thead>\n",
       "    <tr style=\"text-align: right;\">\n",
       "      <th></th>\n",
       "      <th>Claim_Number</th>\n",
       "      <th>Date_Received</th>\n",
       "      <th>Incident_Date</th>\n",
       "      <th>Airport_Code</th>\n",
       "      <th>Airport_Name</th>\n",
       "      <th>Airline_Name</th>\n",
       "      <th>Claim_Type</th>\n",
       "      <th>Claim_Site</th>\n",
       "      <th>Item</th>\n",
       "      <th>Claim_Amount</th>\n",
       "      <th>Status</th>\n",
       "      <th>Close_Amount</th>\n",
       "      <th>Disposition</th>\n",
       "    </tr>\n",
       "  </thead>\n",
       "  <tbody>\n",
       "    <tr>\n",
       "      <th>0</th>\n",
       "      <td>0909802M</td>\n",
       "      <td>2002-01-04</td>\n",
       "      <td>12/12/2002 0:00</td>\n",
       "      <td>EWR</td>\n",
       "      <td>Newark International Airport</td>\n",
       "      <td>Continental Airlines</td>\n",
       "      <td>Property Damage</td>\n",
       "      <td>Checkpoint</td>\n",
       "      <td>Other</td>\n",
       "      <td>350.00</td>\n",
       "      <td>Approved</td>\n",
       "      <td>350.00</td>\n",
       "      <td>Approve in Full</td>\n",
       "    </tr>\n",
       "    <tr>\n",
       "      <th>1</th>\n",
       "      <td>0202445M</td>\n",
       "      <td>2002-02-04</td>\n",
       "      <td>11/26/2003 0:00</td>\n",
       "      <td>STL</td>\n",
       "      <td>Lambert St. Louis International</td>\n",
       "      <td>American Airlines</td>\n",
       "      <td>Property Damage</td>\n",
       "      <td>Checked Baggage</td>\n",
       "      <td>Cell Phones</td>\n",
       "      <td>278.88</td>\n",
       "      <td>Settled</td>\n",
       "      <td>227.92</td>\n",
       "      <td>Settle</td>\n",
       "    </tr>\n",
       "    <tr>\n",
       "      <th>2</th>\n",
       "      <td>0909816M</td>\n",
       "      <td>2002-02-07</td>\n",
       "      <td>1/6/2003 0:00</td>\n",
       "      <td>MIA</td>\n",
       "      <td>Miami International Airport</td>\n",
       "      <td>American Airlines</td>\n",
       "      <td>Property Damage</td>\n",
       "      <td>Checkpoint</td>\n",
       "      <td>Luggage (all types including footlockers)</td>\n",
       "      <td>50.00</td>\n",
       "      <td>Approved</td>\n",
       "      <td>50.00</td>\n",
       "      <td>Approve in Full</td>\n",
       "    </tr>\n",
       "    <tr>\n",
       "      <th>3</th>\n",
       "      <td>2.00503E+12</td>\n",
       "      <td>2002-02-18</td>\n",
       "      <td>2/5/2005 0:00</td>\n",
       "      <td>MCO</td>\n",
       "      <td>Orlando International Airport</td>\n",
       "      <td>Delta (Song)</td>\n",
       "      <td>Property Damage</td>\n",
       "      <td>Checkpoint</td>\n",
       "      <td>Baby - Strollers; car seats; playpen; etc.</td>\n",
       "      <td>84.79</td>\n",
       "      <td>Approved</td>\n",
       "      <td>84.79</td>\n",
       "      <td>Approve in Full</td>\n",
       "    </tr>\n",
       "    <tr>\n",
       "      <th>4</th>\n",
       "      <td>2.00503E+12</td>\n",
       "      <td>2002-02-18</td>\n",
       "      <td>2/17/2005 0:00</td>\n",
       "      <td>CAK</td>\n",
       "      <td>Akron-Canton Regional</td>\n",
       "      <td>Air Tran Airlines(do not use)</td>\n",
       "      <td>Passenger Property Loss</td>\n",
       "      <td>Checked Baggage</td>\n",
       "      <td>Other</td>\n",
       "      <td>459.01</td>\n",
       "      <td>Settled</td>\n",
       "      <td>227.00</td>\n",
       "      <td>Settle</td>\n",
       "    </tr>\n",
       "  </tbody>\n",
       "</table>\n",
       "</div>"
      ],
      "text/plain": [
       "  Claim_Number Date_Received    Incident_Date Airport_Code  \\\n",
       "0     0909802M    2002-01-04  12/12/2002 0:00          EWR   \n",
       "1     0202445M    2002-02-04  11/26/2003 0:00          STL   \n",
       "2     0909816M    2002-02-07    1/6/2003 0:00          MIA   \n",
       "3  2.00503E+12    2002-02-18    2/5/2005 0:00          MCO   \n",
       "4  2.00503E+12    2002-02-18   2/17/2005 0:00          CAK   \n",
       "\n",
       "                      Airport_Name                   Airline_Name  \\\n",
       "0     Newark International Airport           Continental Airlines   \n",
       "1  Lambert St. Louis International              American Airlines   \n",
       "2      Miami International Airport              American Airlines   \n",
       "3    Orlando International Airport                   Delta (Song)   \n",
       "4            Akron-Canton Regional  Air Tran Airlines(do not use)   \n",
       "\n",
       "                Claim_Type       Claim_Site  \\\n",
       "0          Property Damage       Checkpoint   \n",
       "1          Property Damage  Checked Baggage   \n",
       "2          Property Damage       Checkpoint   \n",
       "3          Property Damage       Checkpoint   \n",
       "4  Passenger Property Loss  Checked Baggage   \n",
       "\n",
       "                                         Item  Claim_Amount    Status  \\\n",
       "0                                       Other        350.00  Approved   \n",
       "1                                 Cell Phones        278.88   Settled   \n",
       "2   Luggage (all types including footlockers)         50.00  Approved   \n",
       "3  Baby - Strollers; car seats; playpen; etc.         84.79  Approved   \n",
       "4                                       Other        459.01   Settled   \n",
       "\n",
       "   Close_Amount      Disposition  \n",
       "0        350.00  Approve in Full  \n",
       "1        227.92           Settle  \n",
       "2         50.00  Approve in Full  \n",
       "3         84.79  Approve in Full  \n",
       "4        227.00           Settle  "
      ]
     },
     "execution_count": 51,
     "metadata": {},
     "output_type": "execute_result"
    }
   ],
   "source": [
    "airport.head(5)"
   ]
  },
  {
   "cell_type": "code",
   "execution_count": 52,
   "id": "ef52d9a7",
   "metadata": {},
   "outputs": [
    {
     "data": {
      "text/plain": [
       "<bound method DataFrame.info of           Claim_Number Date_Received     Incident_Date Airport_Code  \\\n",
       "0             0909802M    2002-01-04   12/12/2002 0:00          EWR   \n",
       "1             0202445M    2002-02-04   11/26/2003 0:00          STL   \n",
       "2             0909816M    2002-02-07     1/6/2003 0:00          MIA   \n",
       "3          2.00503E+12    2002-02-18     2/5/2005 0:00          MCO   \n",
       "4          2.00503E+12    2002-02-18    2/17/2005 0:00          CAK   \n",
       "...                ...           ...               ...          ...   \n",
       "94843  2010010000000.0    2009-12-31   12/14/2009 0:00          EWR   \n",
       "94844  2010010000000.0    2009-12-31   12/17/2009 7:55          BWI   \n",
       "94845  2010010000000.0    2009-12-31   12/15/2009 0:00          SMF   \n",
       "94846  2010010000000.0    2009-12-31  12/16/2009 10:00          ENV   \n",
       "94847  2009120000000.0    2009-12-31   11/21/2009 9:20          JFK   \n",
       "\n",
       "                                      Airport_Name  \\\n",
       "0                     Newark International Airport   \n",
       "1                  Lambert St. Louis International   \n",
       "2                      Miami International Airport   \n",
       "3                    Orlando International Airport   \n",
       "4                            Akron-Canton Regional   \n",
       "...                                            ...   \n",
       "94843                 Newark International Airport   \n",
       "94844  Baltimore/Washington Intl Thurgood Marshall   \n",
       "94845             Sacramento International Airport   \n",
       "94846                   Wendover Municipal Airport   \n",
       "94847                John F. Kennedy International   \n",
       "\n",
       "                        Airline_Name               Claim_Type  \\\n",
       "0               Continental Airlines          Property Damage   \n",
       "1                  American Airlines          Property Damage   \n",
       "2                  American Airlines          Property Damage   \n",
       "3                       Delta (Song)          Property Damage   \n",
       "4      Air Tran Airlines(do not use)  Passenger Property Loss   \n",
       "...                              ...                      ...   \n",
       "94843           Continental Airlines          Property Damage   \n",
       "94844             Southwest Airlines  Passenger Property Loss   \n",
       "94845             Southwest Airlines  Passenger Property Loss   \n",
       "94846                   Xtra Airways  Passenger Property Loss   \n",
       "94847              American Airlines          Property Damage   \n",
       "\n",
       "            Claim_Site                                               Item  \\\n",
       "0           Checkpoint                                              Other   \n",
       "1      Checked Baggage                                        Cell Phones   \n",
       "2           Checkpoint          Luggage (all types including footlockers)   \n",
       "3           Checkpoint         Baby - Strollers; car seats; playpen; etc.   \n",
       "4      Checked Baggage                                              Other   \n",
       "...                ...                                                ...   \n",
       "94843  Checked Baggage          Luggage (all types including footlockers)   \n",
       "94844  Checked Baggage  Cell Phones (smartphone type-blackberry; iphon...   \n",
       "94845  Checked Baggage                                              Locks   \n",
       "94846  Checked Baggage                                              Locks   \n",
       "94847       Checkpoint                                  Computer - Laptop   \n",
       "\n",
       "       Claim_Amount    Status  Close_Amount      Disposition  \n",
       "0            350.00  Approved        350.00  Approve in Full  \n",
       "1            278.88   Settled        227.92           Settle  \n",
       "2             50.00  Approved         50.00  Approve in Full  \n",
       "3             84.79  Approved         84.79  Approve in Full  \n",
       "4            459.01   Settled        227.00           Settle  \n",
       "...             ...       ...           ...              ...  \n",
       "94843        175.90    Denied          0.00             Deny  \n",
       "94844        695.00    Denied          0.00             Deny  \n",
       "94845         25.50    Denied          0.00             Deny  \n",
       "94846         20.00    Denied          0.00             Deny  \n",
       "94847       1228.95   Settled        826.72           Settle  \n",
       "\n",
       "[94832 rows x 13 columns]>"
      ]
     },
     "execution_count": 52,
     "metadata": {},
     "output_type": "execute_result"
    }
   ],
   "source": [
    "airport.info"
   ]
  },
  {
   "cell_type": "code",
   "execution_count": 53,
   "id": "2ef219cb",
   "metadata": {},
   "outputs": [
    {
     "data": {
      "text/plain": [
       "Claim_Number             object\n",
       "Date_Received    datetime64[ns]\n",
       "Incident_Date            object\n",
       "Airport_Code             object\n",
       "Airport_Name             object\n",
       "Airline_Name             object\n",
       "Claim_Type               object\n",
       "Claim_Site               object\n",
       "Item                     object\n",
       "Claim_Amount            float64\n",
       "Status                   object\n",
       "Close_Amount            float64\n",
       "Disposition              object\n",
       "dtype: object"
      ]
     },
     "execution_count": 53,
     "metadata": {},
     "output_type": "execute_result"
    }
   ],
   "source": [
    "airport.dtypes"
   ]
  },
  {
   "cell_type": "code",
   "execution_count": 54,
   "id": "5be80853",
   "metadata": {},
   "outputs": [],
   "source": [
    "airport['Incident_Date'] = pd.to_datetime(airport['Incident_Date'], errors = 'coerce')"
   ]
  },
  {
   "cell_type": "code",
   "execution_count": 55,
   "id": "60d6d3af",
   "metadata": {},
   "outputs": [
    {
     "data": {
      "text/html": [
       "<div>\n",
       "<style scoped>\n",
       "    .dataframe tbody tr th:only-of-type {\n",
       "        vertical-align: middle;\n",
       "    }\n",
       "\n",
       "    .dataframe tbody tr th {\n",
       "        vertical-align: top;\n",
       "    }\n",
       "\n",
       "    .dataframe thead th {\n",
       "        text-align: right;\n",
       "    }\n",
       "</style>\n",
       "<table border=\"1\" class=\"dataframe\">\n",
       "  <thead>\n",
       "    <tr style=\"text-align: right;\">\n",
       "      <th></th>\n",
       "      <th>Claim_Number</th>\n",
       "      <th>Date_Received</th>\n",
       "      <th>Incident_Date</th>\n",
       "      <th>Airport_Code</th>\n",
       "      <th>Airport_Name</th>\n",
       "      <th>Airline_Name</th>\n",
       "      <th>Claim_Type</th>\n",
       "      <th>Claim_Site</th>\n",
       "      <th>Item</th>\n",
       "      <th>Claim_Amount</th>\n",
       "      <th>Status</th>\n",
       "      <th>Close_Amount</th>\n",
       "      <th>Disposition</th>\n",
       "    </tr>\n",
       "  </thead>\n",
       "  <tbody>\n",
       "    <tr>\n",
       "      <th>0</th>\n",
       "      <td>0909802M</td>\n",
       "      <td>2002-01-04</td>\n",
       "      <td>2002-12-12</td>\n",
       "      <td>EWR</td>\n",
       "      <td>Newark International Airport</td>\n",
       "      <td>Continental Airlines</td>\n",
       "      <td>Property Damage</td>\n",
       "      <td>Checkpoint</td>\n",
       "      <td>Other</td>\n",
       "      <td>350.00</td>\n",
       "      <td>Approved</td>\n",
       "      <td>350.00</td>\n",
       "      <td>Approve in Full</td>\n",
       "    </tr>\n",
       "    <tr>\n",
       "      <th>1</th>\n",
       "      <td>0202445M</td>\n",
       "      <td>2002-02-04</td>\n",
       "      <td>2003-11-26</td>\n",
       "      <td>STL</td>\n",
       "      <td>Lambert St. Louis International</td>\n",
       "      <td>American Airlines</td>\n",
       "      <td>Property Damage</td>\n",
       "      <td>Checked Baggage</td>\n",
       "      <td>Cell Phones</td>\n",
       "      <td>278.88</td>\n",
       "      <td>Settled</td>\n",
       "      <td>227.92</td>\n",
       "      <td>Settle</td>\n",
       "    </tr>\n",
       "    <tr>\n",
       "      <th>2</th>\n",
       "      <td>0909816M</td>\n",
       "      <td>2002-02-07</td>\n",
       "      <td>2003-01-06</td>\n",
       "      <td>MIA</td>\n",
       "      <td>Miami International Airport</td>\n",
       "      <td>American Airlines</td>\n",
       "      <td>Property Damage</td>\n",
       "      <td>Checkpoint</td>\n",
       "      <td>Luggage (all types including footlockers)</td>\n",
       "      <td>50.00</td>\n",
       "      <td>Approved</td>\n",
       "      <td>50.00</td>\n",
       "      <td>Approve in Full</td>\n",
       "    </tr>\n",
       "    <tr>\n",
       "      <th>3</th>\n",
       "      <td>2.00503E+12</td>\n",
       "      <td>2002-02-18</td>\n",
       "      <td>2005-02-05</td>\n",
       "      <td>MCO</td>\n",
       "      <td>Orlando International Airport</td>\n",
       "      <td>Delta (Song)</td>\n",
       "      <td>Property Damage</td>\n",
       "      <td>Checkpoint</td>\n",
       "      <td>Baby - Strollers; car seats; playpen; etc.</td>\n",
       "      <td>84.79</td>\n",
       "      <td>Approved</td>\n",
       "      <td>84.79</td>\n",
       "      <td>Approve in Full</td>\n",
       "    </tr>\n",
       "    <tr>\n",
       "      <th>4</th>\n",
       "      <td>2.00503E+12</td>\n",
       "      <td>2002-02-18</td>\n",
       "      <td>2005-02-17</td>\n",
       "      <td>CAK</td>\n",
       "      <td>Akron-Canton Regional</td>\n",
       "      <td>Air Tran Airlines(do not use)</td>\n",
       "      <td>Passenger Property Loss</td>\n",
       "      <td>Checked Baggage</td>\n",
       "      <td>Other</td>\n",
       "      <td>459.01</td>\n",
       "      <td>Settled</td>\n",
       "      <td>227.00</td>\n",
       "      <td>Settle</td>\n",
       "    </tr>\n",
       "  </tbody>\n",
       "</table>\n",
       "</div>"
      ],
      "text/plain": [
       "  Claim_Number Date_Received Incident_Date Airport_Code  \\\n",
       "0     0909802M    2002-01-04    2002-12-12          EWR   \n",
       "1     0202445M    2002-02-04    2003-11-26          STL   \n",
       "2     0909816M    2002-02-07    2003-01-06          MIA   \n",
       "3  2.00503E+12    2002-02-18    2005-02-05          MCO   \n",
       "4  2.00503E+12    2002-02-18    2005-02-17          CAK   \n",
       "\n",
       "                      Airport_Name                   Airline_Name  \\\n",
       "0     Newark International Airport           Continental Airlines   \n",
       "1  Lambert St. Louis International              American Airlines   \n",
       "2      Miami International Airport              American Airlines   \n",
       "3    Orlando International Airport                   Delta (Song)   \n",
       "4            Akron-Canton Regional  Air Tran Airlines(do not use)   \n",
       "\n",
       "                Claim_Type       Claim_Site  \\\n",
       "0          Property Damage       Checkpoint   \n",
       "1          Property Damage  Checked Baggage   \n",
       "2          Property Damage       Checkpoint   \n",
       "3          Property Damage       Checkpoint   \n",
       "4  Passenger Property Loss  Checked Baggage   \n",
       "\n",
       "                                         Item  Claim_Amount    Status  \\\n",
       "0                                       Other        350.00  Approved   \n",
       "1                                 Cell Phones        278.88   Settled   \n",
       "2   Luggage (all types including footlockers)         50.00  Approved   \n",
       "3  Baby - Strollers; car seats; playpen; etc.         84.79  Approved   \n",
       "4                                       Other        459.01   Settled   \n",
       "\n",
       "   Close_Amount      Disposition  \n",
       "0        350.00  Approve in Full  \n",
       "1        227.92           Settle  \n",
       "2         50.00  Approve in Full  \n",
       "3         84.79  Approve in Full  \n",
       "4        227.00           Settle  "
      ]
     },
     "execution_count": 55,
     "metadata": {},
     "output_type": "execute_result"
    }
   ],
   "source": [
    "airport.head()"
   ]
  },
  {
   "cell_type": "code",
   "execution_count": 56,
   "id": "02cc3751",
   "metadata": {},
   "outputs": [
    {
     "data": {
      "text/plain": [
       "Claim_Number             object\n",
       "Date_Received    datetime64[ns]\n",
       "Incident_Date    datetime64[ns]\n",
       "Airport_Code             object\n",
       "Airport_Name             object\n",
       "Airline_Name             object\n",
       "Claim_Type               object\n",
       "Claim_Site               object\n",
       "Item                     object\n",
       "Claim_Amount            float64\n",
       "Status                   object\n",
       "Close_Amount            float64\n",
       "Disposition              object\n",
       "dtype: object"
      ]
     },
     "execution_count": 56,
     "metadata": {},
     "output_type": "execute_result"
    }
   ],
   "source": [
    "airport.dtypes"
   ]
  },
  {
   "cell_type": "markdown",
   "id": "d9d98e88",
   "metadata": {},
   "source": [
    "2. Create a visualization to show the pattern or trend."
   ]
  },
  {
   "cell_type": "code",
   "execution_count": 57,
   "id": "cc2e3c56",
   "metadata": {},
   "outputs": [
    {
     "data": {
      "image/png": "[encoded data removed]",
      "text/plain": [
       "<Figure size 640x480 with 1 Axes>"
      ]
     },
     "metadata": {},
     "output_type": "display_data"
    }
   ],
   "source": [
    "plt.scatter(airport['Date_Received'], airport['Close_Amount'], color = 'green')\n",
    "plt.xlabel('Date Received')\n",
    "plt.ylabel('Close Amount')\n",
    "plt.show()"
   ]
  },
  {
   "cell_type": "markdown",
   "id": "cd5ba3be",
   "metadata": {},
   "source": [
    "## Challenging Tasks: Medical"
   ]
  },
  {
   "cell_type": "markdown",
   "id": "a8744ef6",
   "metadata": {},
   "source": [
    "3. Create a new variable that puts the people into groups."
   ]
  },
  {
   "cell_type": "code",
   "execution_count": 58,
   "id": "78e38e35",
   "metadata": {},
   "outputs": [
    {
     "data": {
      "text/html": [
       "<div>\n",
       "<style scoped>\n",
       "    .dataframe tbody tr th:only-of-type {\n",
       "        vertical-align: middle;\n",
       "    }\n",
       "\n",
       "    .dataframe tbody tr th {\n",
       "        vertical-align: top;\n",
       "    }\n",
       "\n",
       "    .dataframe thead th {\n",
       "        text-align: right;\n",
       "    }\n",
       "</style>\n",
       "<table border=\"1\" class=\"dataframe\">\n",
       "  <thead>\n",
       "    <tr style=\"text-align: right;\">\n",
       "      <th></th>\n",
       "      <th>age</th>\n",
       "      <th>sex</th>\n",
       "      <th>bmi</th>\n",
       "      <th>children</th>\n",
       "      <th>smoker</th>\n",
       "      <th>region</th>\n",
       "      <th>charges</th>\n",
       "    </tr>\n",
       "  </thead>\n",
       "  <tbody>\n",
       "    <tr>\n",
       "      <th>0</th>\n",
       "      <td>19</td>\n",
       "      <td>female</td>\n",
       "      <td>27.900</td>\n",
       "      <td>0</td>\n",
       "      <td>yes</td>\n",
       "      <td>southwest</td>\n",
       "      <td>16884.92400</td>\n",
       "    </tr>\n",
       "    <tr>\n",
       "      <th>1</th>\n",
       "      <td>18</td>\n",
       "      <td>male</td>\n",
       "      <td>33.770</td>\n",
       "      <td>1</td>\n",
       "      <td>no</td>\n",
       "      <td>southeast</td>\n",
       "      <td>1725.55230</td>\n",
       "    </tr>\n",
       "    <tr>\n",
       "      <th>2</th>\n",
       "      <td>28</td>\n",
       "      <td>male</td>\n",
       "      <td>33.000</td>\n",
       "      <td>3</td>\n",
       "      <td>no</td>\n",
       "      <td>southeast</td>\n",
       "      <td>4449.46200</td>\n",
       "    </tr>\n",
       "    <tr>\n",
       "      <th>3</th>\n",
       "      <td>33</td>\n",
       "      <td>male</td>\n",
       "      <td>22.705</td>\n",
       "      <td>0</td>\n",
       "      <td>no</td>\n",
       "      <td>northwest</td>\n",
       "      <td>21984.47061</td>\n",
       "    </tr>\n",
       "    <tr>\n",
       "      <th>4</th>\n",
       "      <td>32</td>\n",
       "      <td>male</td>\n",
       "      <td>28.880</td>\n",
       "      <td>0</td>\n",
       "      <td>no</td>\n",
       "      <td>northwest</td>\n",
       "      <td>3866.85520</td>\n",
       "    </tr>\n",
       "    <tr>\n",
       "      <th>5</th>\n",
       "      <td>31</td>\n",
       "      <td>female</td>\n",
       "      <td>25.740</td>\n",
       "      <td>0</td>\n",
       "      <td>no</td>\n",
       "      <td>southeast</td>\n",
       "      <td>3756.62160</td>\n",
       "    </tr>\n",
       "    <tr>\n",
       "      <th>6</th>\n",
       "      <td>46</td>\n",
       "      <td>female</td>\n",
       "      <td>33.440</td>\n",
       "      <td>1</td>\n",
       "      <td>no</td>\n",
       "      <td>southeast</td>\n",
       "      <td>8240.58960</td>\n",
       "    </tr>\n",
       "    <tr>\n",
       "      <th>7</th>\n",
       "      <td>37</td>\n",
       "      <td>female</td>\n",
       "      <td>27.740</td>\n",
       "      <td>3</td>\n",
       "      <td>no</td>\n",
       "      <td>northwest</td>\n",
       "      <td>7281.50560</td>\n",
       "    </tr>\n",
       "    <tr>\n",
       "      <th>8</th>\n",
       "      <td>37</td>\n",
       "      <td>male</td>\n",
       "      <td>29.830</td>\n",
       "      <td>2</td>\n",
       "      <td>no</td>\n",
       "      <td>northeast</td>\n",
       "      <td>6406.41070</td>\n",
       "    </tr>\n",
       "    <tr>\n",
       "      <th>9</th>\n",
       "      <td>60</td>\n",
       "      <td>female</td>\n",
       "      <td>25.840</td>\n",
       "      <td>0</td>\n",
       "      <td>no</td>\n",
       "      <td>northwest</td>\n",
       "      <td>28923.13692</td>\n",
       "    </tr>\n",
       "  </tbody>\n",
       "</table>\n",
       "</div>"
      ],
      "text/plain": [
       "   age     sex     bmi  children smoker     region      charges\n",
       "0   19  female  27.900         0    yes  southwest  16884.92400\n",
       "1   18    male  33.770         1     no  southeast   1725.55230\n",
       "2   28    male  33.000         3     no  southeast   4449.46200\n",
       "3   33    male  22.705         0     no  northwest  21984.47061\n",
       "4   32    male  28.880         0     no  northwest   3866.85520\n",
       "5   31  female  25.740         0     no  southeast   3756.62160\n",
       "6   46  female  33.440         1     no  southeast   8240.58960\n",
       "7   37  female  27.740         3     no  northwest   7281.50560\n",
       "8   37    male  29.830         2     no  northeast   6406.41070\n",
       "9   60  female  25.840         0     no  northwest  28923.13692"
      ]
     },
     "execution_count": 58,
     "metadata": {},
     "output_type": "execute_result"
    }
   ],
   "source": [
    "medical.head(10)"
   ]
  },
  {
   "cell_type": "code",
   "execution_count": 59,
   "id": "9f09878d",
   "metadata": {},
   "outputs": [
    {
     "data": {
      "text/html": [
       "<div>\n",
       "<style scoped>\n",
       "    .dataframe tbody tr th:only-of-type {\n",
       "        vertical-align: middle;\n",
       "    }\n",
       "\n",
       "    .dataframe tbody tr th {\n",
       "        vertical-align: top;\n",
       "    }\n",
       "\n",
       "    .dataframe thead th {\n",
       "        text-align: right;\n",
       "    }\n",
       "</style>\n",
       "<table border=\"1\" class=\"dataframe\">\n",
       "  <thead>\n",
       "    <tr style=\"text-align: right;\">\n",
       "      <th></th>\n",
       "      <th>age</th>\n",
       "      <th>sex</th>\n",
       "      <th>bmi</th>\n",
       "      <th>children</th>\n",
       "      <th>smoker</th>\n",
       "      <th>region</th>\n",
       "      <th>charges</th>\n",
       "      <th>age_group</th>\n",
       "    </tr>\n",
       "  </thead>\n",
       "  <tbody>\n",
       "    <tr>\n",
       "      <th>0</th>\n",
       "      <td>19</td>\n",
       "      <td>female</td>\n",
       "      <td>27.900</td>\n",
       "      <td>0</td>\n",
       "      <td>yes</td>\n",
       "      <td>southwest</td>\n",
       "      <td>16884.92400</td>\n",
       "      <td>19-25</td>\n",
       "    </tr>\n",
       "    <tr>\n",
       "      <th>1</th>\n",
       "      <td>18</td>\n",
       "      <td>male</td>\n",
       "      <td>33.770</td>\n",
       "      <td>1</td>\n",
       "      <td>no</td>\n",
       "      <td>southeast</td>\n",
       "      <td>1725.55230</td>\n",
       "      <td>0-18</td>\n",
       "    </tr>\n",
       "    <tr>\n",
       "      <th>2</th>\n",
       "      <td>28</td>\n",
       "      <td>male</td>\n",
       "      <td>33.000</td>\n",
       "      <td>3</td>\n",
       "      <td>no</td>\n",
       "      <td>southeast</td>\n",
       "      <td>4449.46200</td>\n",
       "      <td>26-34</td>\n",
       "    </tr>\n",
       "    <tr>\n",
       "      <th>3</th>\n",
       "      <td>33</td>\n",
       "      <td>male</td>\n",
       "      <td>22.705</td>\n",
       "      <td>0</td>\n",
       "      <td>no</td>\n",
       "      <td>northwest</td>\n",
       "      <td>21984.47061</td>\n",
       "      <td>26-34</td>\n",
       "    </tr>\n",
       "    <tr>\n",
       "      <th>4</th>\n",
       "      <td>32</td>\n",
       "      <td>male</td>\n",
       "      <td>28.880</td>\n",
       "      <td>0</td>\n",
       "      <td>no</td>\n",
       "      <td>northwest</td>\n",
       "      <td>3866.85520</td>\n",
       "      <td>26-34</td>\n",
       "    </tr>\n",
       "    <tr>\n",
       "      <th>5</th>\n",
       "      <td>31</td>\n",
       "      <td>female</td>\n",
       "      <td>25.740</td>\n",
       "      <td>0</td>\n",
       "      <td>no</td>\n",
       "      <td>southeast</td>\n",
       "      <td>3756.62160</td>\n",
       "      <td>26-34</td>\n",
       "    </tr>\n",
       "    <tr>\n",
       "      <th>6</th>\n",
       "      <td>46</td>\n",
       "      <td>female</td>\n",
       "      <td>33.440</td>\n",
       "      <td>1</td>\n",
       "      <td>no</td>\n",
       "      <td>southeast</td>\n",
       "      <td>8240.58960</td>\n",
       "      <td>41-50</td>\n",
       "    </tr>\n",
       "    <tr>\n",
       "      <th>7</th>\n",
       "      <td>37</td>\n",
       "      <td>female</td>\n",
       "      <td>27.740</td>\n",
       "      <td>3</td>\n",
       "      <td>no</td>\n",
       "      <td>northwest</td>\n",
       "      <td>7281.50560</td>\n",
       "      <td>35-40</td>\n",
       "    </tr>\n",
       "    <tr>\n",
       "      <th>8</th>\n",
       "      <td>37</td>\n",
       "      <td>male</td>\n",
       "      <td>29.830</td>\n",
       "      <td>2</td>\n",
       "      <td>no</td>\n",
       "      <td>northeast</td>\n",
       "      <td>6406.41070</td>\n",
       "      <td>35-40</td>\n",
       "    </tr>\n",
       "    <tr>\n",
       "      <th>9</th>\n",
       "      <td>60</td>\n",
       "      <td>female</td>\n",
       "      <td>25.840</td>\n",
       "      <td>0</td>\n",
       "      <td>no</td>\n",
       "      <td>northwest</td>\n",
       "      <td>28923.13692</td>\n",
       "      <td>51-65</td>\n",
       "    </tr>\n",
       "  </tbody>\n",
       "</table>\n",
       "</div>"
      ],
      "text/plain": [
       "   age     sex     bmi  children smoker     region      charges age_group\n",
       "0   19  female  27.900         0    yes  southwest  16884.92400     19-25\n",
       "1   18    male  33.770         1     no  southeast   1725.55230      0-18\n",
       "2   28    male  33.000         3     no  southeast   4449.46200     26-34\n",
       "3   33    male  22.705         0     no  northwest  21984.47061     26-34\n",
       "4   32    male  28.880         0     no  northwest   3866.85520     26-34\n",
       "5   31  female  25.740         0     no  southeast   3756.62160     26-34\n",
       "6   46  female  33.440         1     no  southeast   8240.58960     41-50\n",
       "7   37  female  27.740         3     no  northwest   7281.50560     35-40\n",
       "8   37    male  29.830         2     no  northeast   6406.41070     35-40\n",
       "9   60  female  25.840         0     no  northwest  28923.13692     51-65"
      ]
     },
     "execution_count": 59,
     "metadata": {},
     "output_type": "execute_result"
    }
   ],
   "source": [
    "age_group = [0, 18, 25, 34, 40, 50, 65, 75, 85, 100]\n",
    "age_labels = ['0-18', '19-25', '26-34', '35-40', '41-50', '51-65', '66-75', '76-85', '86-100']\n",
    "medical['age_group'] = pd.cut(medical['age'], bins = age_group, labels = age_labels)\n",
    "medical.head(10)"
   ]
  },
  {
   "cell_type": "markdown",
   "id": "350afdc5",
   "metadata": {},
   "source": [
    "4. Create a visualization to show how many groups should be created."
   ]
  },
  {
   "cell_type": "code",
   "execution_count": 60,
   "id": "4b55a35f",
   "metadata": {},
   "outputs": [
    {
     "data": {
      "text/plain": [
       "<function matplotlib.pyplot.show(close=None, block=None)>"
      ]
     },
     "execution_count": 60,
     "metadata": {},
     "output_type": "execute_result"
    },
    {
     "data": {
      "image/png": "[encoded data removed]",
      "text/plain": [
       "<Figure size 640x480 with 1 Axes>"
      ]
     },
     "metadata": {},
     "output_type": "display_data"
    }
   ],
   "source": [
    "medical_age = medical.groupby(['age_group'])['age_group'].count().plot(kind = 'bar', rot = 55, color = 'orange')\n",
    "plt.xlabel('Age Groups')\n",
    "plt.ylabel('Number of People')\n",
    "plt.title('Distribution of Age Groups')\n",
    "plt.show"
   ]
  }
 ],
 "metadata": {
  "kernelspec": {
   "display_name": "Python 3 (ipykernel)",
   "language": "python",
   "name": "python3"
  },
  "language_info": {
   "codemirror_mode": {
    "name": "ipython",
    "version": 3
   },
   "file_extension": ".py",
   "mimetype": "text/x-python",
   "name": "python",
   "nbconvert_exporter": "python",
   "pygments_lexer": "ipython3",
   "version": "3.9.13"
  }
 },
 "nbformat": 4,
 "nbformat_minor": 5
}
